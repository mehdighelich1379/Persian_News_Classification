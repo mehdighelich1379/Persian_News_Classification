{
 "cells": [
  {
   "cell_type": "markdown",
   "metadata": {},
   "source": [
    "<font size=4><b>Text Mining</b></font>"
   ]
  },
  {
   "cell_type": "markdown",
   "metadata": {},
   "source": [
    "<font size=3>Project Documentation for Persian News Classification\n",
    "\n",
    "Introduction\n",
    "\n",
    "In this project, we aim to develop a text classification model for Persian news articles using a dataset containing various attributes of the news. The dataset consists of multiple columns, including:\n",
    "\n",
    "Title: The headline of the news article.\n",
    "\n",
    "Body: The main content of the news article.\n",
    "\n",
    "Category: The classification label indicating the type or subject matter of the news (e.g., politics, sports, technology, etc.).\n",
    "\n",
    "Time: The time the article was published.\n",
    "\n",
    "Date: The date when the article was published.\n",
    "\n",
    "The primary objective of this project is to create a reliable machine learning model that can automatically classify Persian news articles into predefined categories based on their content. By analyzing the relationships between the textual features of the articles (title and body) and their respective categories, the model will assist in the automatic organization and retrieval of news content, thereby improving user experience and engagement.\n",
    "The project will involve data preprocessing steps such as text cleaning, tokenization, and feature extraction (e.g., TF-IDF, word embeddings) followed by training various classification algorithms. The model's performance will be evaluated using metrics such as accuracy, precision, recall, and F1 score to ensure its effectiveness in real-world applications.</font>"
   ]
  },
  {
   "cell_type": "markdown",
   "metadata": {},
   "source": [
    "<font size=\"3\">Importing Required Libraries\n",
    "\n",
    "In this section, we import the necessary libraries for data handling, preprocessing, and building the deep learning model.</font>"
   ]
  },
  {
   "cell_type": "code",
   "execution_count": null,
   "metadata": {},
   "outputs": [
    {
     "name": "stderr",
     "output_type": "stream",
     "text": [
      "[nltk_data] Downloading package stopwords to C:\\Users\\T A\n",
      "[nltk_data]     T\\AppData\\Roaming\\nltk_data...\n",
      "[nltk_data]   Package stopwords is already up-to-date!\n"
     ]
    }
   ],
   "source": [
    "import pandas  as pd\n",
    "import numpy as np\n",
    "import hazm\n",
    "from hazm import Stemmer\n",
    "import nltk\n",
    "import pickle\n",
    "nltk.download('stopwords')\n",
    "from hazm import WordTokenizer\n",
    "from sklearn.feature_extraction.text import TfidfVectorizer\n",
    "from sklearn.preprocessing import LabelEncoder\n",
    "from sklearn.model_selection import train_test_split\n",
    "from sklearn.svm import SVC\n",
    "from sklearn import metrics\n",
    "from catboost import CatBoostClassifier\n",
    "from sklearn.ensemble import RandomForestClassifier\n",
    "from sklearn.neighbors import KNeighborsClassifier"
   ]
  },
  {
   "cell_type": "markdown",
   "metadata": {},
   "source": [
    "<font size=\"3\">Loading and Exploring the Dataset\n",
    "\n",
    "We load the dataset and check its structure, including image dimensions and labels. This helps us understand what kind of data we are working with.</font>"
   ]
  },
  {
   "cell_type": "code",
   "execution_count": 2,
   "metadata": {},
   "outputs": [
    {
     "data": {
      "text/html": [
       "<div>\n",
       "<style scoped>\n",
       "    .dataframe tbody tr th:only-of-type {\n",
       "        vertical-align: middle;\n",
       "    }\n",
       "\n",
       "    .dataframe tbody tr th {\n",
       "        vertical-align: top;\n",
       "    }\n",
       "\n",
       "    .dataframe thead th {\n",
       "        text-align: right;\n",
       "    }\n",
       "</style>\n",
       "<table border=\"1\" class=\"dataframe\">\n",
       "  <thead>\n",
       "    <tr style=\"text-align: right;\">\n",
       "      <th></th>\n",
       "      <th>NewsID</th>\n",
       "      <th>Title</th>\n",
       "      <th>Body</th>\n",
       "      <th>Date</th>\n",
       "      <th>Time</th>\n",
       "      <th>Category</th>\n",
       "      <th>Category2</th>\n",
       "    </tr>\n",
       "  </thead>\n",
       "  <tbody>\n",
       "    <tr>\n",
       "      <th>0</th>\n",
       "      <td>843656</td>\n",
       "      <td>\\nوزير علوم درجمع استادان نمونه: سن بازنشستگي ...</td>\n",
       "      <td>\\nوزير علوم در جمع استادان نمونه كشور گفت: از ...</td>\n",
       "      <td>\\n138/5//09</td>\n",
       "      <td>\\n0:9::18</td>\n",
       "      <td>\\nآموزشي-</td>\n",
       "      <td>\\nآموزشي</td>\n",
       "    </tr>\n",
       "    <tr>\n",
       "      <th>1</th>\n",
       "      <td>837144</td>\n",
       "      <td>\\nگردهمايي دانش‌آموختگان موسسه آموزش عالي سوره...</td>\n",
       "      <td>\\nبه گزارش سرويس صنفي آموزشي خبرگزاري دانشجويا...</td>\n",
       "      <td>\\n138/5//09</td>\n",
       "      <td>\\n1:4::11</td>\n",
       "      <td>\\nآموزشي-</td>\n",
       "      <td>\\nآموزشي</td>\n",
       "    </tr>\n",
       "    <tr>\n",
       "      <th>2</th>\n",
       "      <td>436862</td>\n",
       "      <td>\\nنتايج آزمون دوره‌هاي فراگير دانشگاه پيام‌نور...</td>\n",
       "      <td>\\nنتايج آزمون دوره‌هاي فراگير مقاطع كارشناسي و...</td>\n",
       "      <td>\\n138/3//07</td>\n",
       "      <td>\\n1:0::03</td>\n",
       "      <td>\\nآموزشي-</td>\n",
       "      <td>\\nآموزشي</td>\n",
       "    </tr>\n",
       "    <tr>\n",
       "      <th>3</th>\n",
       "      <td>227781</td>\n",
       "      <td>\\nهمايش يكروزه آسيب شناسي مفهوم روابط عمومي در...</td>\n",
       "      <td>\\n</td>\n",
       "      <td>\\n138/2//02</td>\n",
       "      <td>\\n1:3::42</td>\n",
       "      <td>\\nاجتماعي-خانواده-</td>\n",
       "      <td>\\nاجتماعي</td>\n",
       "    </tr>\n",
       "    <tr>\n",
       "      <th>4</th>\n",
       "      <td>174187</td>\n",
       "      <td>\\nوضعيت اقتصادي و ميزان تحصيلات والدين از مهمت...</td>\n",
       "      <td>\\nمحمدتقي علوي يزدي، مجري اين طرح پژوهشي در اي...</td>\n",
       "      <td>\\n138/1//08</td>\n",
       "      <td>\\n1:1::49</td>\n",
       "      <td>\\nآموزشي-</td>\n",
       "      <td>\\nآموزشي</td>\n",
       "    </tr>\n",
       "  </tbody>\n",
       "</table>\n",
       "</div>"
      ],
      "text/plain": [
       "   NewsID                                              Title  \\\n",
       "0  843656  \\nوزير علوم درجمع استادان نمونه: سن بازنشستگي ...   \n",
       "1  837144  \\nگردهمايي دانش‌آموختگان موسسه آموزش عالي سوره...   \n",
       "2  436862  \\nنتايج آزمون دوره‌هاي فراگير دانشگاه پيام‌نور...   \n",
       "3  227781  \\nهمايش يكروزه آسيب شناسي مفهوم روابط عمومي در...   \n",
       "4  174187  \\nوضعيت اقتصادي و ميزان تحصيلات والدين از مهمت...   \n",
       "\n",
       "                                                Body         Date       Time  \\\n",
       "0  \\nوزير علوم در جمع استادان نمونه كشور گفت: از ...  \\n138/5//09  \\n0:9::18   \n",
       "1  \\nبه گزارش سرويس صنفي آموزشي خبرگزاري دانشجويا...  \\n138/5//09  \\n1:4::11   \n",
       "2  \\nنتايج آزمون دوره‌هاي فراگير مقاطع كارشناسي و...  \\n138/3//07  \\n1:0::03   \n",
       "3                                                 \\n  \\n138/2//02  \\n1:3::42   \n",
       "4  \\nمحمدتقي علوي يزدي، مجري اين طرح پژوهشي در اي...  \\n138/1//08  \\n1:1::49   \n",
       "\n",
       "             Category  Category2  \n",
       "0           \\nآموزشي-   \\nآموزشي  \n",
       "1           \\nآموزشي-   \\nآموزشي  \n",
       "2           \\nآموزشي-   \\nآموزشي  \n",
       "3  \\nاجتماعي-خانواده-  \\nاجتماعي  \n",
       "4           \\nآموزشي-   \\nآموزشي  "
      ]
     },
     "execution_count": 2,
     "metadata": {},
     "output_type": "execute_result"
    }
   ],
   "source": [
    "data = pd.read_csv('per.csv')\n",
    "data.head()"
   ]
  },
  {
   "cell_type": "markdown",
   "metadata": {},
   "source": [
    "<font size=\"3\">Exploratory Data Analysis (EDA)\n",
    "\n",
    "In this section, we check the basic structure of the dataset and look for missing values or abnormal data.</font>"
   ]
  },
  {
   "cell_type": "code",
   "execution_count": 3,
   "metadata": {},
   "outputs": [
    {
     "data": {
      "text/plain": [
       "NewsID       0\n",
       "Title        0\n",
       "Body         0\n",
       "Date         0\n",
       "Time         0\n",
       "Category     0\n",
       "Category2    0\n",
       "dtype: int64"
      ]
     },
     "execution_count": 3,
     "metadata": {},
     "output_type": "execute_result"
    }
   ],
   "source": [
    "data.isnull().sum()"
   ]
  },
  {
   "cell_type": "code",
   "execution_count": 4,
   "metadata": {},
   "outputs": [
    {
     "data": {
      "text/plain": [
       "NewsID       0\n",
       "Title        0\n",
       "Body         0\n",
       "Date         0\n",
       "Time         0\n",
       "Category     0\n",
       "Category2    0\n",
       "dtype: int64"
      ]
     },
     "execution_count": 4,
     "metadata": {},
     "output_type": "execute_result"
    }
   ],
   "source": [
    "data.isna().sum()"
   ]
  },
  {
   "cell_type": "code",
   "execution_count": 5,
   "metadata": {},
   "outputs": [
    {
     "data": {
      "text/plain": [
       "NewsID       0\n",
       "Title        0\n",
       "Body         0\n",
       "Date         0\n",
       "Time         0\n",
       "Category     0\n",
       "Category2    0\n",
       "dtype: object"
      ]
     },
     "execution_count": 5,
     "metadata": {},
     "output_type": "execute_result"
    }
   ],
   "source": [
    "data[data['Category'] == ''].sum()"
   ]
  },
  {
   "cell_type": "markdown",
   "metadata": {},
   "source": [
    "<font size=\"3\">lead stopwords</font>"
   ]
  },
  {
   "cell_type": "code",
   "execution_count": 6,
   "metadata": {},
   "outputs": [
    {
     "data": {
      "text/plain": [
       "1316"
      ]
     },
     "execution_count": 6,
     "metadata": {},
     "output_type": "execute_result"
    }
   ],
   "source": [
    "with open('stopwords.txt' , encoding='utf_8') as stopwords_file:\n",
    "    stopwords = stopwords_file.readlines()\n",
    "stopwords = [line.replace('/n' , '') for line in stopwords]\n",
    "len(stopwords)"
   ]
  },
  {
   "cell_type": "code",
   "execution_count": 7,
   "metadata": {},
   "outputs": [
    {
     "name": "stdout",
     "output_type": "stream",
     "text": [
      "['a', 'about', 'above', 'after', 'again', 'against', 'ain', 'all', 'am', 'an', 'and', 'any', 'are', 'aren', \"aren't\", 'as', 'at', 'be', 'because', 'been', 'before', 'being', 'below', 'between', 'both', 'but', 'by', 'can', 'couldn', \"couldn't\", 'd', 'did', 'didn', \"didn't\", 'do', 'does', 'doesn', \"doesn't\", 'doing', 'don', \"don't\", 'down', 'during', 'each', 'few', 'for', 'from', 'further', 'had', 'hadn', \"hadn't\", 'has', 'hasn', \"hasn't\", 'have', 'haven', \"haven't\", 'having', 'he', \"he'd\", \"he'll\", 'her', 'here', 'hers', 'herself', \"he's\", 'him', 'himself', 'his', 'how', 'i', \"i'd\", 'if', \"i'll\", \"i'm\", 'in', 'into', 'is', 'isn', \"isn't\", 'it', \"it'd\", \"it'll\", \"it's\", 'its', 'itself', \"i've\", 'just', 'll', 'm', 'ma', 'me', 'mightn', \"mightn't\", 'more', 'most', 'mustn', \"mustn't\", 'my', 'myself', 'needn', \"needn't\", 'no', 'nor', 'not', 'now', 'o', 'of', 'off', 'on', 'once', 'only', 'or', 'other', 'our', 'ours', 'ourselves', 'out', 'over', 'own', 're', 's', 'same', 'shan', \"shan't\", 'she', \"she'd\", \"she'll\", \"she's\", 'should', 'shouldn', \"shouldn't\", \"should've\", 'so', 'some', 'such', 't', 'than', 'that', \"that'll\", 'the', 'their', 'theirs', 'them', 'themselves', 'then', 'there', 'these', 'they', \"they'd\", \"they'll\", \"they're\", \"they've\", 'this', 'those', 'through', 'to', 'too', 'under', 'until', 'up', 've', 'very', 'was', 'wasn', \"wasn't\", 'we', \"we'd\", \"we'll\", \"we're\", 'were', 'weren', \"weren't\", \"we've\", 'what', 'when', 'where', 'which', 'while', 'who', 'whom', 'why', 'will', 'with', 'won', \"won't\", 'wouldn', \"wouldn't\", 'y', 'you', \"you'd\", \"you'll\", 'your', \"you're\", 'yours', 'yourself', 'yourselves', \"you've\"]\n"
     ]
    }
   ],
   "source": [
    "nltk_stopwords = nltk.corpus.stopwords.words('english')\n",
    "print(nltk_stopwords)"
   ]
  },
  {
   "cell_type": "code",
   "execution_count": 8,
   "metadata": {},
   "outputs": [
    {
     "data": {
      "text/plain": [
       "198"
      ]
     },
     "execution_count": 8,
     "metadata": {},
     "output_type": "execute_result"
    }
   ],
   "source": [
    "len(nltk_stopwords)"
   ]
  },
  {
   "cell_type": "code",
   "execution_count": 9,
   "metadata": {},
   "outputs": [
    {
     "name": "stdout",
     "output_type": "stream",
     "text": [
      "['!\\n', '\"\\n', '#\\n', '(\\n', ')\\n', '*\\n', ',\\n', '-\\n', '.\\n', '/\\n', ':\\n', '[\\n', ']\\n', '«\\n', '»\\n', '،\\n', '؛\\n', '؟\\n', 'آباد\\n', 'آخ\\n', 'آخر\\n', 'آخرها\\n', 'آخه\\n', 'آدمهاست\\n', 'آرام\\n', 'آرام آرام\\n', 'آره\\n', 'آری\\n', 'آزادانه\\n', 'آسان\\n', 'آسیب پذیرند\\n', 'آشنایند\\n', 'آشکارا\\n', 'آقا\\n', 'آقای\\n', 'آقایان\\n', 'آمد\\n', 'آمدن\\n', 'آمده\\n', 'آمرانه\\n', 'آن\\n', 'آن گاه\\n', 'آنان\\n', 'آنانی\\n', 'آنجا\\n', 'آنرا\\n', 'آنطور\\n', 'آنقدر\\n', 'آنها\\n', 'آنهاست\\n', 'آنچنان\\n', 'آنچنان که\\n', 'آنچه\\n', 'آنکه\\n', 'آنگاه\\n', 'آن\\u200cها\\n', 'آهان\\n', 'آهای\\n', 'آور\\n', 'آورد\\n', 'آوردن\\n', 'آورده\\n', 'آوه\\n', 'آی\\n', 'آیا\\n', 'آید\\n', 'آیند\\n', 'ا\\n', 'اتفاقا\\n', 'اثرِ\\n', 'اجراست\\n', 'احتراما\\n', 'احتمالا\\n', 'احیاناً\\n', 'اخیر\\n', 'اخیراً\\n', 'اری\\n', 'از\\n', 'از آن پس\\n', 'از جمله\\n', 'ازاین رو\\n', 'ازجمله\\n', 'ازش\\n', 'اساسا\\n', 'اساساً\\n', 'است\\n', 'استفاد\\n', 'استفاده\\n', 'اسلامی اند\\n', 'اش\\n', 'اشتباها\\n', 'اشکارا\\n', 'اصلا\\n', 'اصلاً\\n', 'اصولا\\n', 'اصولاً\\n', 'اعلام\\n', 'اغلب\\n', 'افزود\\n', 'افسوس\\n', 'اقل\\n', 'اقلیت\\n', 'الا\\n', 'الان\\n', 'البته\\n', 'البتّه\\n', 'الهی\\n', 'الی\\n', 'ام\\n', 'اما\\n', 'امروز\\n', 'امروزه\\n', 'امسال\\n', 'امشب\\n', 'امور\\n', 'امیدوارم\\n', 'امیدوارند\\n', 'امیدواریم\\n', 'ان\\n', 'ان شاأالله\\n', 'انتها\\n', 'انجام\\n', 'اند\\n', 'اندکی\\n', 'انشاالله\\n', 'انصافا\\n', 'انطور\\n', 'انقدر\\n', 'انها\\n', 'انچنان\\n', 'انکه\\n', 'انگار\\n', 'او\\n', 'اوست\\n', 'اول\\n', 'اولا\\n', 'اولاً\\n', 'اولین\\n', 'اون\\n', 'اکثر\\n', 'اکثرا\\n', 'اکثراً\\n', 'اکثریت\\n', 'اکنون\\n', 'اگر\\n', 'اگر چه\\n', 'اگرچه\\n', 'اگه\\n', 'ای\\n', 'ایا\\n', 'اید\\n', 'ایشان\\n', 'ایم\\n', 'این\\n', 'این جوری\\n', 'این قدر\\n', 'این گونه\\n', 'اینان\\n', 'اینجا\\n', 'اینجاست\\n', 'ایند\\n', 'اینطور\\n', 'اینقدر\\n', 'اینها\\n', 'اینهاست\\n', 'اینو\\n', 'اینچنین\\n', 'اینک\\n', 'اینکه\\n', 'اینگونه\\n', 'ب \\n', 'با\\n', 'بااین حال\\n', 'بااین وجود\\n', 'باد\\n', 'بار\\n', 'بارة\\n', 'باره\\n', 'بارها\\n', 'باز\\n', 'باز هم\\n', 'بازهم\\n', 'بازی کنان\\n', 'بازیگوشانه\\n', 'باش\\n', 'باشد\\n', 'باشم\\n', 'باشند\\n', 'باشی\\n', 'باشید\\n', 'باشیم\\n', 'بالا\\n', 'بالاخره\\n', 'بالاخص\\n', 'بالاست\\n', 'بالای\\n', 'بالایِ\\n', 'بالطبع\\n', 'بالعکس\\n', 'باوجودی که\\n', 'باورند\\n', 'باید\\n', 'بتدریج\\n', 'بتوان\\n', 'بتواند\\n', 'بتوانی\\n', 'بتوانیم\\n', 'بجز\\n', 'بخش\\n', 'بخشه\\n', 'بخشی\\n', 'بخصوص\\n', 'بخواه\\n', 'بخواهد\\n', 'بخواهم\\n', 'بخواهند\\n', 'بخواهی\\n', 'بخواهید\\n', 'بخواهیم\\n', 'بخوبی\\n', 'بد\\n', 'بدان\\n', 'بدانجا\\n', 'بدانها\\n', 'بدهید\\n', 'بدون\\n', 'بدین\\n', 'بدین ترتیب\\n', 'بدینجا\\n', 'بر\\n', 'برآنند\\n', 'برا\\n', 'برابر\\n', 'برابرِ\\n', 'براحتی\\n', 'براساس\\n', 'براستی\\n', 'برای\\n', 'برایت\\n', 'برایش\\n', 'برایشان\\n', 'برایم\\n', 'برایمان\\n', 'برایِ\\n', 'برخوردار\\n', 'برخوردارند\\n', 'برخی\\n', 'برداری\\n', 'برعکس\\n', 'برنامه سازهاست\\n', 'بروز\\n', 'بروشنی\\n', 'بزرگ\\n', 'بزودی\\n', 'بس\\n', 'بسا\\n', 'بسادگی\\n', 'بسختی\\n', 'بسوی\\n', 'بسی\\n', 'بسیار\\n', 'بسیاری\\n', 'بشدت\\n', 'بطور\\n', 'بطوری که\\n', 'بعد\\n', 'بعد از این که\\n', 'بعدا\\n', 'بعدازظهر\\n', 'بعداً\\n', 'بعدها\\n', 'بعری\\n', 'بعضا\\n', 'بعضی\\n', 'بعضی شان\\n', 'بعضیهایشان\\n', 'بعضی\\u200cها\\n', 'بعلاوه\\n', 'بعید\\n', 'بفهمی نفهمی\\n', 'بلافاصله\\n', 'بله\\n', 'بلکه\\n', 'بلی\\n', 'بماند\\n', 'بنابراین\\n', 'بندی\\n', 'به\\n', 'به آسانی\\n', 'به تازگی\\n', 'به تدریج\\n', 'به تمامی\\n', 'به جای\\n', 'به جز\\n', 'به خوبی\\n', 'به درشتی\\n', 'به دلخواه\\n', 'به راستی\\n', 'به رغم\\n', 'به روشنی\\n', 'به زودی\\n', 'به سادگی\\n', 'به سرعت\\n', 'به شان\\n', 'به شدت\\n', 'به طور کلی\\n', 'به طوری که\\n', 'به علاوه\\n', 'به قدری\\n', 'به مراتب\\n', 'به ناچار\\n', 'به هرحال\\n', 'به هیچ وجه\\n', 'به وضوح\\n', 'به ویژه\\n', 'به کرات\\n', 'به گرمی\\n', 'بهت\\n', 'بهتر\\n', 'بهترین\\n', 'بهش\\n', 'بود\\n', 'بودم\\n', 'بودن\\n', 'بودند\\n', 'بوده\\n', 'بودی\\n', 'بودید\\n', 'بودیم\\n', 'بویژه\\n', 'بپا\\n', 'بکار\\n', 'بکن\\n', 'بکند\\n', 'بکنم\\n', 'بکنند\\n', 'بکنی\\n', 'بکنید\\n', 'بکنیم\\n', 'بگذاریم\\n', 'بگو\\n', 'بگوید\\n', 'بگویم\\n', 'بگویند\\n', 'بگویی\\n', 'بگویید\\n', 'بگوییم\\n', 'بگیر\\n', 'بگیرد\\n', 'بگیرم\\n', 'بگیرند\\n', 'بگیری\\n', 'بگیرید\\n', 'بگیریم\\n', 'بی\\n', 'بی آنکه\\n', 'بی اطلاعند\\n', 'بی تردید\\n', 'بی تفاوتند\\n', 'بی نیازمندانه\\n', 'بی هدف\\n', 'بیا\\n', 'بیاب\\n', 'بیابد\\n', 'بیابم\\n', 'بیابند\\n', 'بیابی\\n', 'بیابید\\n', 'بیابیم\\n', 'بیاور\\n', 'بیاورد\\n', 'بیاورم\\n', 'بیاورند\\n', 'بیاوری\\n', 'بیاورید\\n', 'بیاوریم\\n', 'بیاید\\n', 'بیایم\\n', 'بیایند\\n', 'بیایی\\n', 'بیایید\\n', 'بیاییم\\n', 'بیرون\\n', 'بیرونِ\\n', 'بیست\\n', 'بیش\\n', 'بیشتر\\n', 'بیشتری\\n', 'بین\\n', 'بیگمان\\n', 'ت\\n', 'تا\\n', 'تازه\\n', 'تان\\n', 'تاکنون\\n', 'تحت\\n', 'تحریم هاست\\n', 'تر\\n', 'تر براساس\\n', 'تریلیارد\\n', 'تریلیون\\n', 'ترین\\n', 'تصریحاً\\n', 'تعدادی\\n', 'تعمدا\\n', 'تقریبا\\n', 'تقریباً\\n', 'تلویحا\\n', 'تلویحاً\\n', 'تمام\\n', 'تمام قد\\n', 'تماما\\n', 'تمامشان\\n', 'تمامی\\n', 'تند تند\\n', 'تنها\\n', 'تو\\n', 'توؤماً\\n', 'توان\\n', 'تواند\\n', 'توانست\\n', 'توانستم\\n', 'توانستن\\n', 'توانستند\\n', 'توانسته\\n', 'توانستی\\n', 'توانستیم\\n', 'توانم\\n', 'توانند\\n', 'توانی\\n', 'توانید\\n', 'توانیم\\n', 'توسط\\n', 'تولِ\\n', 'توی\\n', 'تویِ\\n', 'تک تک\\n', 'ث\\n', 'ثالثاً\\n', 'ثانیا\\n', 'ثانیاً\\n', 'ج\\n', 'جا\\n', 'جای\\n', 'جایی\\n', 'جدا\\n', 'جداً\\n', 'جداگانه\\n', 'جدید\\n', 'جدیدا\\n', 'جرمزاست\\n', 'جریان\\n', 'جز\\n', 'جلو\\n', 'جلوگیری\\n', 'جلوی\\n', 'جلویِ\\n', 'جمع اند\\n', 'جمعا\\n', 'جمعی\\n', 'جنابعالی\\n', 'جناح\\n', 'جنس اند\\n', 'جهت\\n', 'جور\\n', 'ح\\n', 'حاشیه\\u200cای\\n', 'حاضر\\n', 'حاضرم\\n', 'حال\\n', 'حالا\\n', 'حاکیست\\n', 'حتما\\n', 'حتماً\\n', 'حتی\\n', 'حداقل\\n', 'حداکثر\\n', 'حدود\\n', 'حدودا\\n', 'حدودِ\\n', 'حسابگرانه\\n', 'حضرتعالی\\n', 'حق\\n', 'حقیرانه\\n', 'حقیقتا\\n', 'حول\\n', 'حکماً\\n', 'خ\\n', 'خارجِ\\n', 'خالصانه\\n', 'خب\\n', 'خداحافظ\\n', 'خداست\\n', 'خدمات\\n', 'خسته\\u200cای\\n', 'خصوصا\\n', 'خصوصاً\\n', 'خلاصه\\n', 'خواست\\n', 'خواستم\\n', 'خواستن\\n', 'خواستند\\n', 'خواسته\\n', 'خواستی\\n', 'خواستید\\n', 'خواستیم\\n', 'خواه\\n', 'خواهد\\n', 'خواهم\\n', 'خواهند\\n', 'خواهی\\n', 'خواهید\\n', 'خواهیم\\n', 'خوب\\n', 'خود\\n', 'خود به خود\\n', 'خودبه خودی\\n', 'خودت\\n', 'خودتان\\n', 'خودتو\\n', 'خودش\\n', 'خودشان\\n', 'خودم\\n', 'خودمان\\n', 'خودمو\\n', 'خوش\\n', 'خوشبختانه\\n', 'خویش\\n', 'خویشتن\\n', 'خویشتنم\\n', 'خیاه\\n', 'خیر\\n', 'خیره\\n', 'خیلی\\n', 'د\\n', 'دا\\n', 'داام\\n', 'دااما\\n', 'داخل\\n', 'داد\\n', 'دادم\\n', 'دادن\\n', 'دادند\\n', 'داده\\n', 'دادی\\n', 'دادید\\n', 'دادیم\\n', 'دار\\n', 'داراست\\n', 'دارد\\n', 'دارم\\n', 'دارند\\n', 'داری\\n', 'دارید\\n', 'داریم\\n', 'داشت\\n', 'داشتم\\n', 'داشتن\\n', 'داشتند\\n', 'داشته\\n', 'داشتی\\n', 'داشتید\\n', 'داشتیم\\n', 'دامم\\n', 'دانست\\n', 'دانند\\n', 'دایم\\n', 'دایما\\n', 'در\\n', 'در باره\\n', 'در بارهٌ\\n', 'در ثانی\\n', 'در مجموع\\n', 'در نهایت\\n', 'در واقع\\n', 'در کل\\n', 'در کنار\\n', 'دراین میان\\n', 'درباره\\n', 'درحالی که\\n', 'درحالیکه\\n', 'درست\\n', 'درست و حسابی\\n', 'درسته\\n', 'درصورتی که\\n', 'درعین حال\\n', 'درمجموع\\n', 'درواقع\\n', 'درون\\n', 'دریغ\\n', 'دریغا\\n', 'درین\\n', 'دسته دسته\\n', 'دشمنیم\\n', 'دقیقا\\n', 'دم\\n', 'دنبالِ\\n', 'ده\\n', 'دهد\\n', 'دهم\\n', 'دهند\\n', 'دهی\\n', 'دهید\\n', 'دهیم\\n', 'دو\\n', 'دو روزه\\n', 'دوباره\\n', 'دوم\\n', 'دیده\\n', 'دیر\\n', 'دیرت\\n', 'دیرم\\n', 'دیروز\\n', 'دیشب\\n', 'دیوانه\\u200cای\\n', 'دیوی\\n', 'دیگر\\n', 'دیگران\\n', 'دیگری\\n', 'دیگه\\n', 'ذ\\n', 'ذاتاً\\n', 'ر\\n', 'را\\n', 'راجع به\\n', 'راحت\\n', 'راسا\\n', 'راست\\n', 'راستی\\n', 'راه\\n', 'رسما\\n', 'رسید\\n', 'رسیده\\n', 'رشته\\n', 'رفت\\n', 'رفتارهاست\\n', 'رفته\\n', 'رنجند\\n', 'رهگشاست\\n', 'رو\\n', 'رواست\\n', 'روب\\n', 'روبروست\\n', 'روز\\n', 'روز به روز\\n', 'روزانه\\n', 'روزه ایم\\n', 'روزه ست\\n', 'روزه م\\n', 'روزهای\\n', 'روزه\\u200cای\\n', 'روش\\n', 'روی\\n', 'رویش\\n', 'رویِ\\n', 'ریزی\\n', 'ز\\n', 'زشتکارانند\\n', 'زمان\\n', 'زمانی\\n', 'زمینه\\n', 'زنند\\n', 'زهی\\n', 'زود\\n', 'زودتر\\n', 'زیاد\\n', 'زیاده\\n', 'زیر\\n', 'زیرا\\n', 'زیرِ\\n', 'زیرچشمی\\n', 'س\\n', 'سابق\\n', 'ساخته\\n', 'ساده اند\\n', 'سازی\\n', 'سالانه\\n', 'سالته\\n', 'سالم\\u200cتر\\n', 'سالهاست\\n', 'سالیانه\\n', 'ساکنند\\n', 'سایر\\n', 'سخت\\n', 'سخته\\n', 'سر\\n', 'سراسر\\n', 'سرانجام\\n', 'سراپا\\n', 'سری\\n', 'سریع\\n', 'سریعا\\n', 'سریعاً\\n', 'سریِ\\n', 'سعی\\n', 'سمتِ\\n', 'سه باره\\n', 'سهواً\\n', 'سوم\\n', 'سوی\\n', 'سویِ\\n', 'سپس\\n', 'سیاه چاله هاست\\n', 'سیخ\\n', 'ش\\n', 'شان\\n', 'شاهدند\\n', 'شاهدیم\\n', 'شاید\\n', 'شبهاست\\n', 'شخصا\\n', 'شخصاً\\n', 'شد\\n', 'شدم\\n', 'شدن\\n', 'شدند\\n', 'شده\\n', 'شدی\\n', 'شدید\\n', 'شدیدا\\n', 'شدیداً\\n', 'شدیم\\n', 'شش\\n', 'شش نداشته\\n', 'شما\\n', 'شماری\\n', 'شماست\\n', 'شمایند\\n', 'شناسی\\n', 'شو\\n', 'شود\\n', 'شوراست\\n', 'شوقم\\n', 'شوم\\n', 'شوند\\n', 'شونده\\n', 'شوی\\n', 'شوید\\n', 'شویم\\n', 'شیرین\\n', 'شیرینه\\n', 'شیک\\n', 'ص\\n', 'صد\\n', 'صددرصد\\n', 'صرفا\\n', 'صرفاً\\n', 'صریحاً\\n', 'صندوق هاست\\n', 'صورت\\n', 'ض\\n', 'ضدِّ\\n', 'ضدِّ\\n', 'ضمن\\n', 'ضمناً\\n', 'ط\\n', 'طبعا\\n', 'طبعاً\\n', 'طبقِ\\n', 'طبیعتا\\n', 'طرف\\n', 'طریق\\n', 'طلبکارانه\\n', 'طور\\n', 'طی\\n', 'ظ\\n', 'ظاهرا\\n', 'ظاهراً\\n', 'ع\\n', 'عاجزانه\\n', 'عاقبت\\n', 'عبارتند\\n', 'عجب\\n', 'عجولانه\\n', 'عدم\\n', 'عرفانی\\n', 'عقب\\n', 'عقبِ\\n', 'علاوه بر\\n', 'علاوه بر آن\\n', 'علاوه برآن\\n', 'علناً\\n', 'علّتِ\\n', 'علی الظاهر\\n', 'علی رغم\\n', 'علیرغم\\n', 'علیه\\n', 'عمدا\\n', 'عمداً\\n', 'عمدتا\\n', 'عمدتاً\\n', 'عمده\\n', 'عمل\\n', 'عملا\\n', 'عملاً\\n', 'عملی اند\\n', 'عموم\\n', 'عموما\\n', 'عموماً\\n', 'عنقریب\\n', 'عنوان\\n', 'عنوانِ\\n', 'عیناً\\n', 'غ\\n', 'غالبا\\n', 'غزالان\\n', 'غیر\\n', 'غیرقانونی\\n', 'ف\\n', 'فاقد\\n', 'فبها\\n', 'فر\\n', 'فردا\\n', 'فعلا\\n', 'فعلاً\\n', 'فقط\\n', 'فلان\\n', 'فلذا\\n', 'فوق\\n', 'فکر\\n', 'ق\\n', 'قاالند\\n', 'قابل\\n', 'قاطبه\\n', 'قاطعانه\\n', 'قاعدتاً\\n', 'قانوناً\\n', 'قبل\\n', 'قبلا\\n', 'قبلاً\\n', 'قبلند\\n', 'قدر\\n', 'قدری\\n', 'قصدِ\\n', 'قضایاست\\n', 'قطعا\\n', 'قطعاً\\n', 'ل\\n', 'لااقل\\n', 'لاجرم\\n', 'لب\\n', 'لذا\\n', 'لزوماً\\n', 'لطفا\\n', 'لطفاً\\n', 'لیکن\\n', 'م\\n', 'ما\\n', 'مادامی\\n', 'ماست\\n', 'مامان مامان گویان\\n', 'مان\\n', 'مانند\\n', 'مانندِ\\n', 'مبادا\\n', 'متؤسفانه\\n', 'متاسفانه\\n', 'متعاقبا\\n', 'متفاوتند\\n', 'مثل\\n', 'مثلا\\n', 'مثلِ\\n', 'مجانی\\n', 'مجبورند\\n', 'مجددا\\n', 'مجدداً\\n', 'مجموعا\\n', 'مجموعاً\\n', 'محتاجند\\n', 'محکم\\n', 'محکم\\u200cتر\\n', 'مخالفند\\n', 'مختلف\\n', 'مخصوصاً\\n', 'مدام\\n', 'مدت\\n', 'مدتهاست\\n', 'مدّتی\\n', 'مذهبی اند\\n', 'مرا\\n', 'مرتب\\n', 'مردانه\\n', 'مردم\\n', 'مردم اند\\n', 'مرسی\\n', 'مستحضرید\\n', 'مستقیما\\n', 'مستند\\n', 'مسلما\\n', 'مشت\\n', 'مشترکاً\\n', 'مشغولند\\n', 'مطمانا\\n', 'مطمانم\\n', 'مطمینا\\n', 'مع الاسف\\n', 'مع ذلک\\n', 'معتقدم\\n', 'معتقدند\\n', 'معتقدیم\\n', 'معدود\\n', 'معذوریم\\n', 'معلومه\\n', 'معمولا\\n', 'معمولاً\\n', 'معمولی\\n', 'مغرضانه\\n', 'مفیدند\\n', 'مقابل\\n', 'مقدار\\n', 'مقصرند\\n', 'مقصری\\n', 'ملیارد\\n', 'ملیون\\n', 'ممکن\\n', 'ممیزیهاست\\n', 'من\\n', 'منتهی\\n', 'منطقی\\n', 'منی\\n', 'مواجهند\\n', 'موارد\\n', 'موجودند\\n', 'مورد\\n', 'موقتا\\n', 'مکرر\\n', 'مکرراً\\n', 'مگر\\n', 'مگر آن که\\n', 'مگر این که\\n', 'مگو\\n', 'می\\n', 'میان\\n', 'میزان\\n', 'میلیارد\\n', 'میلیون\\n', 'میکند\\n', 'میکنم\\n', 'میکنند\\n', 'میکنی\\n', 'میکنید\\n', 'میکنیم\\n', 'می\\u200cتواند\\n', 'می\\u200cخواهیم\\n', 'می\\u200cداند\\n', 'می\\u200cرسد\\n', 'می\\u200cرود\\n', 'می\\u200cشود\\n', 'می\\u200cکنم\\n', 'می\\u200cکنند\\n', 'می\\u200cکنیم\\n', 'ن\\n', 'ناامید\\n', 'ناخواسته\\n', 'ناراضی اند\\n', 'ناشی\\n', 'نام\\n', 'ناگاه\\n', 'ناگزیر\\n', 'ناگهان\\n', 'ناگهانی\\n', 'نباید\\n', 'نبش\\n', 'نبود\\n', 'نخست\\n', 'نخستین\\n', 'نخواهد\\n', 'نخواهم\\n', 'نخواهند\\n', 'نخواهی\\n', 'نخواهید\\n', 'نخواهیم\\n', 'نخودی\\n', 'ندارد\\n', 'ندارم\\n', 'ندارند\\n', 'نداری\\n', 'ندارید\\n', 'نداریم\\n', 'نداشت\\n', 'نداشتم\\n', 'نداشتند\\n', 'نداشته\\n', 'نداشتی\\n', 'نداشتید\\n', 'نداشتیم\\n', 'نزد\\n', 'نزدِ\\n', 'نزدیک\\n', 'نزدیکِ\\n', 'نسبتا\\n', 'نشان\\n', 'نشده\\n', 'نظیر\\n', 'نفرند\\n', 'نماید\\n', 'نموده\\n', 'نمی\\n', 'نمی\\u200cشود\\n', 'نمی\\u200cکند\\n', 'نه\\n', 'نه تنها\\n', 'نهایتا\\n', 'نهایتاً\\n', 'نوع\\n', 'نوعاً\\n', 'نوعی\\n', 'نکرده\\n', 'نکن\\n', 'نکند\\n', 'نکنم\\n', 'نکنند\\n', 'نکنی\\n', 'نکنید\\n', 'نکنیم\\n', 'نگاه\\n', 'نگو\\n', 'نیازمندند\\n', 'نیز\\n', 'نیست\\n', 'نیستم\\n', 'نیستند\\n', 'نیستیم\\n', 'نیمی\\n', 'ه\\n', 'ها\\n', 'های\\n', 'هایی\\n', 'هبچ\\n', 'هر\\n', 'هر از گاهی\\n', 'هر چند\\n', 'هر چند که\\n', 'هر چه\\n', 'هرچند\\n', 'هرچه\\n', 'هرکس\\n', 'هرگاه\\n', 'هرگز\\n', 'هزار\\n', 'هست\\n', 'هستم\\n', 'هستند\\n', 'هستی\\n', 'هستید\\n', 'هستیم\\n', 'هفت\\n', 'هق هق کنان\\n', 'هم\\n', 'هم اکنون\\n', 'هم اینک\\n', 'همان\\n', 'همان طور که\\n', 'همان گونه که\\n', 'همانا\\n', 'همانند\\n', 'همانها\\n', 'همدیگر\\n', 'همزمان\\n', 'همه\\n', 'همه روزه\\n', 'همه ساله\\n', 'همه شان\\n', 'همهٌ\\n', 'همه\\u200cاش\\n', 'همواره\\n', 'همچنان\\n', 'همچنان که\\n', 'همچنین\\n', 'همچون\\n', 'همچین\\n', 'همگان\\n', 'همگی\\n', 'همیشه\\n', 'همین\\n', 'همین که\\n', 'هنوز\\n', 'هنگام\\n', 'هنگامِ\\n', 'هنگامی\\n', 'هنگامی که\\n', 'هوی\\n', 'هی\\n', 'هیچ\\n', 'هیچ گاه\\n', 'هیچکدام\\n', 'هیچکس\\n', 'هیچگاه\\n', 'هیچگونه\\n', 'هیچی\\n', 'و\\n', 'و لا غیر\\n', 'وابسته اند\\n', 'واقعا\\n', 'واقعاً\\n', 'واقعی\\n', 'واقفند\\n', 'واما\\n', 'وای\\n', 'وجود\\n', 'وحشت زده\\n', 'وسطِ\\n', 'وضع\\n', 'وقتی\\n', 'وقتی که\\n', 'وقتیکه\\n', 'ولی\\n', 'وگرنه\\n', 'وگو\\n', 'وی\\n', 'ویا\\n', 'ویژه\\n', 'ّه\\n', '٪\\n', 'پ\\n', 'پارسال\\n', 'پارسایانه\\n', 'پاره\\u200cای\\n', 'پاعینِ\\n', 'پایین ترند\\n', 'پدرانه\\n', 'پرسان\\n', 'پروردگارا\\n', 'پریروز\\n', 'پس\\n', 'پس از\\n', 'پس فردا\\n', 'پشت\\n', 'پشتوانه اند\\n', 'پشیمونی\\n', 'پنج\\n', 'پهن شده\\n', 'پی\\n', 'پی درپی\\n', 'پیدا\\n', 'پیداست\\n', 'پیرامون\\n', 'پیش\\n', 'پیشاپیش\\n', 'پیشتر\\n', 'پیشِ\\n', 'پیوسته\\n', 'چ\\n', 'چاپلوسانه\\n', 'چت\\n', 'چته\\n', 'چرا\\n', 'چرا که\\n', 'چشم بسته\\n', 'چطور\\n', 'چقدر\\n', 'چنان\\n', 'چنانچه\\n', 'چنانکه\\n', 'چند\\n', 'چند روزه\\n', 'چندان\\n', 'چنده\\n', 'چندین\\n', 'چنین\\n', 'چه\\n', 'چه بسا\\n', 'چه طور\\n', 'چهار\\n', 'چو\\n', 'چون\\n', 'چکار\\n', 'چگونه\\n', 'چی\\n', 'چیز\\n', 'چیزی\\n', 'چیزیست\\n', 'چیست\\n', 'چیه\\n', 'ژ\\n', 'ک\\n', 'کارند\\n', 'کاش\\n', 'کاشکی\\n', 'کامل\\n', 'کاملا\\n', 'کاملاً\\n', 'کتبا\\n', 'کجا\\n', 'کجاست\\n', 'کدام\\n', 'کرد\\n', 'کردم\\n', 'کردن\\n', 'کردند\\n', 'کرده\\n', 'کردی\\n', 'کردید\\n', 'کردیم\\n', 'کس\\n', 'کسانی\\n', 'کسی\\n', 'کل\\n', 'کلا\\n', 'کلی\\n', 'کلیه\\n', 'کم\\n', 'کم کم\\n', 'کما\\x7fاینکه\\n', 'کماکان\\n', 'کمتر\\n', 'کمتره\\n', 'کمتری\\n', 'کمی\\n', 'کن\\n', 'کنار\\n', 'کنارش\\n', 'کنارِ\\n', 'کنایه\\u200cای\\n', 'کند\\n', 'کنم\\n', 'کنند\\n', 'کننده\\n', 'کنون\\n', 'کنونی\\n', 'کنی\\n', 'کنید\\n', 'کنیم\\n', 'که\\n', 'کو\\n', 'کَی\\n', 'کی\\n', 'گ\\n', 'گاه\\n', 'گاهی\\n', 'گذاری\\n', 'گذاشته\\n', 'گذشته\\n', 'گردد\\n', 'گردند\\n', 'گرفت\\n', 'گرفتارند\\n', 'گرفتم\\n', 'گرفتن\\n', 'گرفتند\\n', 'گرفته\\n', 'گرفتی\\n', 'گرفتید\\n', 'گرفتیم\\n', 'گروهی\\n', 'گرچه\\n', 'گفت\\n', 'گفتم\\n', 'گفتن\\n', 'گفتند\\n', 'گفته\\n', 'گفتی\\n', 'گفتید\\n', 'گفتیم\\n', 'گه\\n', 'گهگاه\\n', 'گو\\n', 'گونه\\n', 'گوی\\n', 'گویا\\n', 'گوید\\n', 'گویم\\n', 'گویند\\n', 'گویی\\n', 'گویید\\n', 'گوییم\\n', 'گیر\\n', 'گیرد\\n', 'گیرم\\n', 'گیرند\\n', 'گیری\\n', 'گیرید\\n', 'گیریم\\n', 'ی\\n', 'یا\\n', 'یاب\\n', 'یابد\\n', 'یابم\\n', 'یابند\\n', 'یابی\\n', 'یابید\\n', 'یابیم\\n', 'یارب\\n', 'یافت\\n', 'یافتم\\n', 'یافتن\\n', 'یافته\\n', 'یافتی\\n', 'یافتید\\n', 'یافتیم\\n', 'یعنی\\n', 'یقینا\\n', 'یقیناً\\n', 'یه\\n', 'یواش یواش\\n', 'یک\\n', 'یک جوری\\n', 'یک کم\\n', 'یک کمی\\n', 'یکدیگر\\n', 'یکریز\\n', 'یکسال\\n', 'یکهزار\\n', 'یکی\\n', '۰\\n', '۱\\n', '۲\\n', '۳\\n', '۴\\n', '۵\\n', '۶\\n', '۷\\n', '۸\\n', '۹\\n', '…\\n', '\\ufeffو', 'a', 'about', 'above', 'after', 'again', 'against', 'ain', 'all', 'am', 'an', 'and', 'any', 'are', 'aren', \"aren't\", 'as', 'at', 'be', 'because', 'been', 'before', 'being', 'below', 'between', 'both', 'but', 'by', 'can', 'couldn', \"couldn't\", 'd', 'did', 'didn', \"didn't\", 'do', 'does', 'doesn', \"doesn't\", 'doing', 'don', \"don't\", 'down', 'during', 'each', 'few', 'for', 'from', 'further', 'had', 'hadn', \"hadn't\", 'has', 'hasn', \"hasn't\", 'have', 'haven', \"haven't\", 'having', 'he', \"he'd\", \"he'll\", 'her', 'here', 'hers', 'herself', \"he's\", 'him', 'himself', 'his', 'how', 'i', \"i'd\", 'if', \"i'll\", \"i'm\", 'in', 'into', 'is', 'isn', \"isn't\", 'it', \"it'd\", \"it'll\", \"it's\", 'its', 'itself', \"i've\", 'just', 'll', 'm', 'ma', 'me', 'mightn', \"mightn't\", 'more', 'most', 'mustn', \"mustn't\", 'my', 'myself', 'needn', \"needn't\", 'no', 'nor', 'not', 'now', 'o', 'of', 'off', 'on', 'once', 'only', 'or', 'other', 'our', 'ours', 'ourselves', 'out', 'over', 'own', 're', 's', 'same', 'shan', \"shan't\", 'she', \"she'd\", \"she'll\", \"she's\", 'should', 'shouldn', \"shouldn't\", \"should've\", 'so', 'some', 'such', 't', 'than', 'that', \"that'll\", 'the', 'their', 'theirs', 'them', 'themselves', 'then', 'there', 'these', 'they', \"they'd\", \"they'll\", \"they're\", \"they've\", 'this', 'those', 'through', 'to', 'too', 'under', 'until', 'up', 've', 'very', 'was', 'wasn', \"wasn't\", 'we', \"we'd\", \"we'll\", \"we're\", 'were', 'weren', \"weren't\", \"we've\", 'what', 'when', 'where', 'which', 'while', 'who', 'whom', 'why', 'will', 'with', 'won', \"won't\", 'wouldn', \"wouldn't\", 'y', 'you', \"you'd\", \"you'll\", 'your', \"you're\", 'yours', 'yourself', 'yourselves', \"you've\"]\n"
     ]
    },
    {
     "data": {
      "text/plain": [
       "1514"
      ]
     },
     "execution_count": 9,
     "metadata": {},
     "output_type": "execute_result"
    }
   ],
   "source": [
    "stopwords.extend(nltk_stopwords)\n",
    "print(stopwords)\n",
    "len(stopwords)"
   ]
  },
  {
   "cell_type": "markdown",
   "metadata": {},
   "source": [
    "<font size=3>This code snippet processes the news articles from a DataFrame data containing \n",
    "'Title' and 'Body' columns. It performs the following steps:\n",
    "\n",
    " 1. Tokenization: Combines the title and body of each news article into a \n",
    "   single string and tokenizes it into individual words.\n",
    "2. Stopword Removal: Filters out common Persian stopwords from the tokenized \n",
    "   words to reduce noise in the data.\n",
    "3. Stemming: Applies stemming to the filtered words to reduce them to their \n",
    "   root forms, making it easier to analyze the text.\n",
    "4. DataFrame Creation: Stores the processed text (combined and stemmed \n",
    "   words) along with the corresponding category into a new DataFrame named dataset.\n",
    "\n",
    "The resulting dataset contains two columns: 'Title_Body', which includes the \n",
    "processed title and body text, and 'Category', which indicates the news article's \n",
    "category.</font>"
   ]
  },
  {
   "cell_type": "code",
   "execution_count": 10,
   "metadata": {},
   "outputs": [],
   "source": [
    "tokenizer = WordTokenizer()\n",
    "stemmer = Stemmer()\n",
    "dataset = pd.DataFrame(columns=['Title_Body','Category'])\n",
    "for index , row in data.iterrows():\n",
    "    title_body = row['Title'] + ' ' + row['Body']\n",
    "    title_body_tokenized = tokenizer.tokenize(title_body)\n",
    "    title_body_tokenized_filter = [w for w in title_body_tokenized if w not in stopwords]\n",
    "    title_body_tokenized_filter_stemmer = [stemmer.stem(w) for w in title_body_tokenized_filter]\n",
    "    dataset.loc[index] = {'Title_Body' : ' '.join(title_body_tokenized_filter_stemmer) , 'Category' : row['Category2'].replace('\\n' , '')}"
   ]
  },
  {
   "cell_type": "code",
   "execution_count": 11,
   "metadata": {},
   "outputs": [
    {
     "data": {
      "text/html": [
       "<div>\n",
       "<style scoped>\n",
       "    .dataframe tbody tr th:only-of-type {\n",
       "        vertical-align: middle;\n",
       "    }\n",
       "\n",
       "    .dataframe tbody tr th {\n",
       "        vertical-align: top;\n",
       "    }\n",
       "\n",
       "    .dataframe thead th {\n",
       "        text-align: right;\n",
       "    }\n",
       "</style>\n",
       "<table border=\"1\" class=\"dataframe\">\n",
       "  <thead>\n",
       "    <tr style=\"text-align: right;\">\n",
       "      <th></th>\n",
       "      <th>Title_Body</th>\n",
       "      <th>Category</th>\n",
       "    </tr>\n",
       "  </thead>\n",
       "  <tbody>\n",
       "    <tr>\n",
       "      <th>0</th>\n",
       "      <td>وزير علو درجمع استاد نمونه : سن بازنشستگي استا...</td>\n",
       "      <td>آموزشي</td>\n",
       "    </tr>\n",
       "    <tr>\n",
       "      <th>1</th>\n",
       "      <td>گردهمايي دانش‌آموختگ موسسه آموز عالي سوره برگز...</td>\n",
       "      <td>آموزشي</td>\n",
       "    </tr>\n",
       "    <tr>\n",
       "      <th>2</th>\n",
       "      <td>نتايج آزمون دوره‌هاي فراگير دانشگاه پيام‌نور ا...</td>\n",
       "      <td>آموزشي</td>\n",
       "    </tr>\n",
       "    <tr>\n",
       "      <th>3</th>\n",
       "      <td>هماي يكروزه آسيب شناسي مفهو روابط عمومي در باب...</td>\n",
       "      <td>اجتماعي</td>\n",
       "    </tr>\n",
       "    <tr>\n",
       "      <th>4</th>\n",
       "      <td>وضعي اقتصادي و ميز تحصيل والدين از مهمترين عوا...</td>\n",
       "      <td>آموزشي</td>\n",
       "    </tr>\n",
       "  </tbody>\n",
       "</table>\n",
       "</div>"
      ],
      "text/plain": [
       "                                          Title_Body Category\n",
       "0  وزير علو درجمع استاد نمونه : سن بازنشستگي استا...   آموزشي\n",
       "1  گردهمايي دانش‌آموختگ موسسه آموز عالي سوره برگز...   آموزشي\n",
       "2  نتايج آزمون دوره‌هاي فراگير دانشگاه پيام‌نور ا...   آموزشي\n",
       "3  هماي يكروزه آسيب شناسي مفهو روابط عمومي در باب...  اجتماعي\n",
       "4  وضعي اقتصادي و ميز تحصيل والدين از مهمترين عوا...   آموزشي"
      ]
     },
     "execution_count": 11,
     "metadata": {},
     "output_type": "execute_result"
    }
   ],
   "source": [
    "dataset.head()"
   ]
  },
  {
   "cell_type": "code",
   "execution_count": 12,
   "metadata": {},
   "outputs": [
    {
     "data": {
      "text/plain": [
       "10999"
      ]
     },
     "execution_count": 12,
     "metadata": {},
     "output_type": "execute_result"
    }
   ],
   "source": [
    "len(dataset)"
   ]
  },
  {
   "cell_type": "code",
   "execution_count": 13,
   "metadata": {},
   "outputs": [
    {
     "data": {
      "text/plain": [
       "10999"
      ]
     },
     "execution_count": 13,
     "metadata": {},
     "output_type": "execute_result"
    }
   ],
   "source": [
    "len(data)"
   ]
  },
  {
   "cell_type": "code",
   "execution_count": 14,
   "metadata": {},
   "outputs": [
    {
     "data": {
      "text/plain": [
       "Title_Body    وزير علو درجمع استاد نمونه : سن بازنشستگي استا...\n",
       "Category                                                 آموزشي\n",
       "Name: 0, dtype: object"
      ]
     },
     "execution_count": 14,
     "metadata": {},
     "output_type": "execute_result"
    }
   ],
   "source": [
    "dataset.loc[0]"
   ]
  },
  {
   "cell_type": "markdown",
   "metadata": {},
   "source": [
    "<font size=\"2\">This code snippet applies TF-IDF (Term Frequency-Inverse Document Frequency) \n",
    " vectorization to the processed text data in the 'Title_Body' column of the \n",
    " dataset DataFrame. \n",
    "\n",
    " The TF-IDF vectorizer transforms the text data into a sparse matrix of \n",
    " TF-IDF features, where:\n",
    " - Term Frequency (TF) measures the frequency of a term in a document,\n",
    " - Inverse Document Frequency (IDF) dampens the effect of common terms \n",
    "   by giving more weight to less frequently occurring terms across \n",
    "   the entire dataset.\n",
    "\n",
    " The resulting sparse matrix X will be used as the feature set for \n",
    " training machine learning models for the news article classification task.</font>"
   ]
  },
  {
   "cell_type": "code",
   "execution_count": 15,
   "metadata": {},
   "outputs": [],
   "source": [
    "vectorizer = TfidfVectorizer()\n",
    "X = vectorizer.fit_transform(dataset['Title_Body'])"
   ]
  },
  {
   "cell_type": "code",
   "execution_count": 16,
   "metadata": {},
   "outputs": [
    {
     "data": {
      "text/plain": [
       "<10999x60857 sparse matrix of type '<class 'numpy.float64'>'\n",
       "\twith 2105900 stored elements in Compressed Sparse Row format>"
      ]
     },
     "execution_count": 16,
     "metadata": {},
     "output_type": "execute_result"
    }
   ],
   "source": [
    "X"
   ]
  },
  {
   "cell_type": "code",
   "execution_count": 17,
   "metadata": {},
   "outputs": [
    {
     "data": {
      "text/plain": [
       "array([0.02475792, 0.02868001, 0.03740069, ..., 0.03745591, 0.02970997,\n",
       "       0.08866777])"
      ]
     },
     "execution_count": 17,
     "metadata": {},
     "output_type": "execute_result"
    }
   ],
   "source": [
    "X.data"
   ]
  },
  {
   "cell_type": "markdown",
   "metadata": {},
   "source": [
    "<font size=3>lable encoder target column</font>\n"
   ]
  },
  {
   "cell_type": "code",
   "execution_count": 18,
   "metadata": {},
   "outputs": [],
   "source": [
    "le = LabelEncoder()\n",
    "y = le.fit_transform(dataset['Category'])"
   ]
  },
  {
   "cell_type": "code",
   "execution_count": 19,
   "metadata": {},
   "outputs": [
    {
     "data": {
      "text/plain": [
       "array([ 0,  0,  0, ..., 10, 10, 10])"
      ]
     },
     "execution_count": 19,
     "metadata": {},
     "output_type": "execute_result"
    }
   ],
   "source": [
    "y"
   ]
  },
  {
   "cell_type": "code",
   "execution_count": 20,
   "metadata": {},
   "outputs": [
    {
     "data": {
      "text/plain": [
       "10999"
      ]
     },
     "execution_count": 20,
     "metadata": {},
     "output_type": "execute_result"
    }
   ],
   "source": [
    "len(y)"
   ]
  },
  {
   "cell_type": "code",
   "execution_count": 21,
   "metadata": {},
   "outputs": [
    {
     "name": "stdout",
     "output_type": "stream",
     "text": [
      "['آموزشي' 'اجتماعي' 'اقتصادي' 'بهداشتي' 'تاريخي' 'سياسي' 'علمي' 'فرهنگي'\n",
      " 'فقه و حقوق' 'مذهبي' 'ورزشي']\n"
     ]
    }
   ],
   "source": [
    "print(np.unique(dataset['Category']))"
   ]
  },
  {
   "cell_type": "code",
   "execution_count": 22,
   "metadata": {},
   "outputs": [
    {
     "data": {
      "text/plain": [
       "array(['آموزشي', 'اجتماعي', 'اقتصادي', 'بهداشتي', 'تاريخي', 'سياسي',\n",
       "       'علمي', 'فرهنگي', 'فقه و حقوق', 'مذهبي', 'ورزشي'], dtype=object)"
      ]
     },
     "execution_count": 22,
     "metadata": {},
     "output_type": "execute_result"
    }
   ],
   "source": [
    "np.unique(dataset['Category'])"
   ]
  },
  {
   "cell_type": "code",
   "execution_count": 23,
   "metadata": {},
   "outputs": [
    {
     "data": {
      "text/plain": [
       "11"
      ]
     },
     "execution_count": 23,
     "metadata": {},
     "output_type": "execute_result"
    }
   ],
   "source": [
    "len(dataset.groupby('Category'))"
   ]
  },
  {
   "cell_type": "code",
   "execution_count": 24,
   "metadata": {},
   "outputs": [
    {
     "data": {
      "text/plain": [
       "Category\n",
       "آموزشي        1000\n",
       "اجتماعي       1000\n",
       "اقتصادي       1000\n",
       "بهداشتي       1000\n",
       "تاريخي         999\n",
       "سياسي         1000\n",
       "علمي          1000\n",
       "فرهنگي        1000\n",
       "فقه و حقوق    1000\n",
       "مذهبي         1000\n",
       "ورزشي         1000\n",
       "dtype: int64"
      ]
     },
     "execution_count": 24,
     "metadata": {},
     "output_type": "execute_result"
    }
   ],
   "source": [
    "dataset.groupby('Category').size()"
   ]
  },
  {
   "cell_type": "markdown",
   "metadata": {},
   "source": [
    "<font size=\"3\">Splitting Data into Training and Testing Sets\n",
    "\n",
    "We split the dataset into training and testing sets using a fixed random seed for reproducibility.</font>"
   ]
  },
  {
   "cell_type": "code",
   "execution_count": 25,
   "metadata": {},
   "outputs": [],
   "source": [
    "x_train , x_test , y_train , y_test = train_test_split(X,y)"
   ]
  },
  {
   "cell_type": "markdown",
   "metadata": {},
   "source": [
    "<font size=\"3\">1) svc algorithm to classify news</font>"
   ]
  },
  {
   "cell_type": "code",
   "execution_count": 26,
   "metadata": {},
   "outputs": [],
   "source": [
    "svc_text = SVC(kernel='linear')\n",
    "svc_text.fit(x_train , y_train)\n",
    "y_pred = svc_text.predict(x_test)"
   ]
  },
  {
   "cell_type": "code",
   "execution_count": 27,
   "metadata": {},
   "outputs": [
    {
     "data": {
      "text/plain": [
       "0.8498181818181818"
      ]
     },
     "execution_count": 27,
     "metadata": {},
     "output_type": "execute_result"
    }
   ],
   "source": [
    "# svc model score\n",
    "svc_text.score(x_test , y_test)"
   ]
  },
  {
   "cell_type": "code",
   "execution_count": 28,
   "metadata": {},
   "outputs": [
    {
     "name": "stdout",
     "output_type": "stream",
     "text": [
      "              precision    recall  f1-score   support\n",
      "\n",
      "           0       0.84      0.89      0.86       248\n",
      "           1       0.66      0.66      0.66       252\n",
      "           2       0.84      0.80      0.82       258\n",
      "           3       0.86      0.94      0.90       265\n",
      "           4       0.89      0.93      0.91       242\n",
      "           5       0.79      0.73      0.76       249\n",
      "           6       0.79      0.72      0.75       242\n",
      "           7       0.85      0.86      0.86       233\n",
      "           8       0.89      0.92      0.91       249\n",
      "           9       0.96      0.94      0.95       262\n",
      "          10       0.96      0.96      0.96       250\n",
      "\n",
      "    accuracy                           0.85      2750\n",
      "   macro avg       0.85      0.85      0.85      2750\n",
      "weighted avg       0.85      0.85      0.85      2750\n",
      "\n"
     ]
    }
   ],
   "source": [
    "# classification_report\n",
    "print(metrics.classification_report(y_test,y_pred))"
   ]
  },
  {
   "cell_type": "code",
   "execution_count": 29,
   "metadata": {},
   "outputs": [
    {
     "name": "stdout",
     "output_type": "stream",
     "text": [
      "[[221   5   0   5   0   1  16   0   0   0   0]\n",
      " [ 13 166  16   9   5  13  11   8   6   2   3]\n",
      " [  2  30 206   3   0   5   4   2   3   3   0]\n",
      " [  0   6   2 249   0   0   6   1   0   0   1]\n",
      " [  2   1   1   0 224   9   0   3   2   0   0]\n",
      " [  5  13   8   4  11 181   2   8  14   2   1]\n",
      " [ 17   9   7  18   1   6 174   7   1   0   2]\n",
      " [  3  11   0   0   5   6   3 200   1   1   3]\n",
      " [  0   5   2   1   2   7   2   0 229   1   0]\n",
      " [  0   3   3   0   3   2   0   4   0 247   0]\n",
      " [  1   3   1   1   1   0   1   1   1   0 240]]\n"
     ]
    }
   ],
   "source": [
    "#confusion_matrix\n",
    "print(metrics.confusion_matrix(y_test,y_pred))"
   ]
  },
  {
   "cell_type": "markdown",
   "metadata": {},
   "source": [
    "<font size=\"3\">2)catboost algorithm to classify news</font>"
   ]
  },
  {
   "cell_type": "code",
   "execution_count": 30,
   "metadata": {},
   "outputs": [
    {
     "name": "stdout",
     "output_type": "stream",
     "text": [
      "0:\tlearn: 2.2751380\ttotal: 637ms\tremaining: 3m 10s\n",
      "1:\tlearn: 2.1875931\ttotal: 1.09s\tremaining: 2m 42s\n",
      "2:\tlearn: 2.1204422\ttotal: 1.58s\tremaining: 2m 36s\n",
      "3:\tlearn: 2.0631260\ttotal: 2.05s\tremaining: 2m 31s\n",
      "4:\tlearn: 2.0102633\ttotal: 2.54s\tremaining: 2m 29s\n",
      "5:\tlearn: 1.9667095\ttotal: 3.01s\tremaining: 2m 27s\n",
      "6:\tlearn: 1.9247776\ttotal: 3.48s\tremaining: 2m 25s\n",
      "7:\tlearn: 1.8899910\ttotal: 3.94s\tremaining: 2m 23s\n",
      "8:\tlearn: 1.8566750\ttotal: 4.42s\tremaining: 2m 22s\n",
      "9:\tlearn: 1.8276174\ttotal: 4.94s\tremaining: 2m 23s\n",
      "10:\tlearn: 1.7973946\ttotal: 5.42s\tremaining: 2m 22s\n",
      "11:\tlearn: 1.7714716\ttotal: 5.92s\tremaining: 2m 22s\n",
      "12:\tlearn: 1.7443351\ttotal: 6.36s\tremaining: 2m 20s\n",
      "13:\tlearn: 1.7214800\ttotal: 6.83s\tremaining: 2m 19s\n",
      "14:\tlearn: 1.7003242\ttotal: 7.31s\tremaining: 2m 18s\n",
      "15:\tlearn: 1.6803764\ttotal: 7.79s\tremaining: 2m 18s\n",
      "16:\tlearn: 1.6612420\ttotal: 8.2s\tremaining: 2m 16s\n",
      "17:\tlearn: 1.6425061\ttotal: 8.64s\tremaining: 2m 15s\n",
      "18:\tlearn: 1.6235324\ttotal: 9.04s\tremaining: 2m 13s\n",
      "19:\tlearn: 1.6068263\ttotal: 9.51s\tremaining: 2m 13s\n",
      "20:\tlearn: 1.5902013\ttotal: 9.97s\tremaining: 2m 12s\n",
      "21:\tlearn: 1.5704730\ttotal: 10.5s\tremaining: 2m 12s\n",
      "22:\tlearn: 1.5538397\ttotal: 10.9s\tremaining: 2m 11s\n",
      "23:\tlearn: 1.5408015\ttotal: 11.3s\tremaining: 2m 9s\n",
      "24:\tlearn: 1.5271650\ttotal: 11.7s\tremaining: 2m 8s\n",
      "25:\tlearn: 1.5148492\ttotal: 12.1s\tremaining: 2m 7s\n",
      "26:\tlearn: 1.5010764\ttotal: 12.5s\tremaining: 2m 6s\n",
      "27:\tlearn: 1.4861211\ttotal: 13s\tremaining: 2m 6s\n",
      "28:\tlearn: 1.4750431\ttotal: 13.4s\tremaining: 2m 5s\n",
      "29:\tlearn: 1.4633242\ttotal: 13.8s\tremaining: 2m 4s\n",
      "30:\tlearn: 1.4532157\ttotal: 14.2s\tremaining: 2m 2s\n",
      "31:\tlearn: 1.4393899\ttotal: 14.7s\tremaining: 2m 2s\n",
      "32:\tlearn: 1.4282755\ttotal: 15.1s\tremaining: 2m 2s\n",
      "33:\tlearn: 1.4192369\ttotal: 15.4s\tremaining: 2m\n",
      "34:\tlearn: 1.4079092\ttotal: 15.9s\tremaining: 2m\n",
      "35:\tlearn: 1.3982077\ttotal: 16.3s\tremaining: 1m 59s\n",
      "36:\tlearn: 1.3875483\ttotal: 16.7s\tremaining: 1m 59s\n",
      "37:\tlearn: 1.3768402\ttotal: 17.2s\tremaining: 1m 58s\n",
      "38:\tlearn: 1.3678355\ttotal: 17.6s\tremaining: 1m 57s\n",
      "39:\tlearn: 1.3585519\ttotal: 18s\tremaining: 1m 56s\n",
      "40:\tlearn: 1.3497456\ttotal: 18.4s\tremaining: 1m 56s\n",
      "41:\tlearn: 1.3414257\ttotal: 18.8s\tremaining: 1m 55s\n",
      "42:\tlearn: 1.3306864\ttotal: 19.3s\tremaining: 1m 55s\n",
      "43:\tlearn: 1.3226504\ttotal: 19.6s\tremaining: 1m 54s\n",
      "44:\tlearn: 1.3133748\ttotal: 20.1s\tremaining: 1m 53s\n",
      "45:\tlearn: 1.3052643\ttotal: 20.5s\tremaining: 1m 53s\n",
      "46:\tlearn: 1.2956656\ttotal: 21s\tremaining: 1m 52s\n",
      "47:\tlearn: 1.2888667\ttotal: 21.4s\tremaining: 1m 52s\n",
      "48:\tlearn: 1.2775843\ttotal: 21.9s\tremaining: 1m 52s\n",
      "49:\tlearn: 1.2698552\ttotal: 22.3s\tremaining: 1m 51s\n",
      "50:\tlearn: 1.2633114\ttotal: 22.7s\tremaining: 1m 50s\n",
      "51:\tlearn: 1.2550732\ttotal: 23.1s\tremaining: 1m 50s\n",
      "52:\tlearn: 1.2474362\ttotal: 23.5s\tremaining: 1m 49s\n",
      "53:\tlearn: 1.2410987\ttotal: 23.9s\tremaining: 1m 48s\n",
      "54:\tlearn: 1.2360272\ttotal: 24.2s\tremaining: 1m 47s\n",
      "55:\tlearn: 1.2284458\ttotal: 24.7s\tremaining: 1m 47s\n",
      "56:\tlearn: 1.2216411\ttotal: 25.1s\tremaining: 1m 46s\n",
      "57:\tlearn: 1.2158518\ttotal: 25.5s\tremaining: 1m 46s\n",
      "58:\tlearn: 1.2096681\ttotal: 25.8s\tremaining: 1m 45s\n",
      "59:\tlearn: 1.2042748\ttotal: 26.2s\tremaining: 1m 44s\n",
      "60:\tlearn: 1.1981397\ttotal: 26.7s\tremaining: 1m 44s\n",
      "61:\tlearn: 1.1912599\ttotal: 27.1s\tremaining: 1m 43s\n",
      "62:\tlearn: 1.1860146\ttotal: 27.4s\tremaining: 1m 43s\n",
      "63:\tlearn: 1.1804716\ttotal: 27.8s\tremaining: 1m 42s\n",
      "64:\tlearn: 1.1758349\ttotal: 28.2s\tremaining: 1m 41s\n",
      "65:\tlearn: 1.1710663\ttotal: 28.5s\tremaining: 1m 41s\n",
      "66:\tlearn: 1.1636039\ttotal: 29s\tremaining: 1m 40s\n",
      "67:\tlearn: 1.1579382\ttotal: 29.4s\tremaining: 1m 40s\n",
      "68:\tlearn: 1.1525084\ttotal: 29.8s\tremaining: 1m 39s\n",
      "69:\tlearn: 1.1477361\ttotal: 30.2s\tremaining: 1m 39s\n",
      "70:\tlearn: 1.1424195\ttotal: 30.6s\tremaining: 1m 38s\n",
      "71:\tlearn: 1.1380236\ttotal: 30.9s\tremaining: 1m 37s\n",
      "72:\tlearn: 1.1311321\ttotal: 31.4s\tremaining: 1m 37s\n",
      "73:\tlearn: 1.1262017\ttotal: 31.8s\tremaining: 1m 37s\n",
      "74:\tlearn: 1.1217133\ttotal: 32.2s\tremaining: 1m 36s\n",
      "75:\tlearn: 1.1171094\ttotal: 32.5s\tremaining: 1m 35s\n",
      "76:\tlearn: 1.1131788\ttotal: 32.8s\tremaining: 1m 35s\n",
      "77:\tlearn: 1.1078856\ttotal: 33.4s\tremaining: 1m 34s\n",
      "78:\tlearn: 1.1029473\ttotal: 33.8s\tremaining: 1m 34s\n",
      "79:\tlearn: 1.0975901\ttotal: 34.2s\tremaining: 1m 34s\n",
      "80:\tlearn: 1.0933008\ttotal: 34.6s\tremaining: 1m 33s\n",
      "81:\tlearn: 1.0887954\ttotal: 35s\tremaining: 1m 33s\n",
      "82:\tlearn: 1.0841392\ttotal: 35.4s\tremaining: 1m 32s\n",
      "83:\tlearn: 1.0807178\ttotal: 35.7s\tremaining: 1m 31s\n",
      "84:\tlearn: 1.0758812\ttotal: 36.1s\tremaining: 1m 31s\n",
      "85:\tlearn: 1.0711650\ttotal: 36.6s\tremaining: 1m 30s\n",
      "86:\tlearn: 1.0652715\ttotal: 37s\tremaining: 1m 30s\n",
      "87:\tlearn: 1.0616924\ttotal: 37.3s\tremaining: 1m 29s\n",
      "88:\tlearn: 1.0580121\ttotal: 37.7s\tremaining: 1m 29s\n",
      "89:\tlearn: 1.0533962\ttotal: 38.2s\tremaining: 1m 29s\n",
      "90:\tlearn: 1.0483820\ttotal: 38.6s\tremaining: 1m 28s\n",
      "91:\tlearn: 1.0443922\ttotal: 39s\tremaining: 1m 28s\n",
      "92:\tlearn: 1.0400146\ttotal: 39.5s\tremaining: 1m 27s\n",
      "93:\tlearn: 1.0359678\ttotal: 39.9s\tremaining: 1m 27s\n",
      "94:\tlearn: 1.0307759\ttotal: 40.4s\tremaining: 1m 27s\n",
      "95:\tlearn: 1.0266167\ttotal: 40.8s\tremaining: 1m 26s\n",
      "96:\tlearn: 1.0236796\ttotal: 41.1s\tremaining: 1m 26s\n",
      "97:\tlearn: 1.0204369\ttotal: 41.5s\tremaining: 1m 25s\n",
      "98:\tlearn: 1.0161816\ttotal: 41.9s\tremaining: 1m 25s\n",
      "99:\tlearn: 1.0118832\ttotal: 42.3s\tremaining: 1m 24s\n",
      "100:\tlearn: 1.0084504\ttotal: 42.7s\tremaining: 1m 24s\n",
      "101:\tlearn: 1.0057314\ttotal: 43.1s\tremaining: 1m 23s\n",
      "102:\tlearn: 1.0020077\ttotal: 43.5s\tremaining: 1m 23s\n",
      "103:\tlearn: 0.9985919\ttotal: 43.9s\tremaining: 1m 22s\n",
      "104:\tlearn: 0.9958356\ttotal: 44.3s\tremaining: 1m 22s\n",
      "105:\tlearn: 0.9924951\ttotal: 44.7s\tremaining: 1m 21s\n",
      "106:\tlearn: 0.9893609\ttotal: 45s\tremaining: 1m 21s\n",
      "107:\tlearn: 0.9861023\ttotal: 45.4s\tremaining: 1m 20s\n",
      "108:\tlearn: 0.9824984\ttotal: 45.8s\tremaining: 1m 20s\n",
      "109:\tlearn: 0.9788862\ttotal: 46.2s\tremaining: 1m 19s\n",
      "110:\tlearn: 0.9759633\ttotal: 46.6s\tremaining: 1m 19s\n",
      "111:\tlearn: 0.9717664\ttotal: 47s\tremaining: 1m 18s\n",
      "112:\tlearn: 0.9693481\ttotal: 47.4s\tremaining: 1m 18s\n",
      "113:\tlearn: 0.9667709\ttotal: 47.7s\tremaining: 1m 17s\n",
      "114:\tlearn: 0.9631485\ttotal: 48.1s\tremaining: 1m 17s\n",
      "115:\tlearn: 0.9599513\ttotal: 48.5s\tremaining: 1m 16s\n",
      "116:\tlearn: 0.9569371\ttotal: 48.9s\tremaining: 1m 16s\n",
      "117:\tlearn: 0.9536493\ttotal: 49.3s\tremaining: 1m 16s\n",
      "118:\tlearn: 0.9506681\ttotal: 49.8s\tremaining: 1m 15s\n",
      "119:\tlearn: 0.9463852\ttotal: 50.3s\tremaining: 1m 15s\n",
      "120:\tlearn: 0.9440515\ttotal: 50.7s\tremaining: 1m 14s\n",
      "121:\tlearn: 0.9416737\ttotal: 51s\tremaining: 1m 14s\n",
      "122:\tlearn: 0.9382377\ttotal: 51.5s\tremaining: 1m 14s\n",
      "123:\tlearn: 0.9360238\ttotal: 51.8s\tremaining: 1m 13s\n",
      "124:\tlearn: 0.9333556\ttotal: 52.2s\tremaining: 1m 13s\n",
      "125:\tlearn: 0.9308463\ttotal: 52.5s\tremaining: 1m 12s\n",
      "126:\tlearn: 0.9282351\ttotal: 52.9s\tremaining: 1m 11s\n",
      "127:\tlearn: 0.9245088\ttotal: 53.4s\tremaining: 1m 11s\n",
      "128:\tlearn: 0.9218184\ttotal: 53.8s\tremaining: 1m 11s\n",
      "129:\tlearn: 0.9193094\ttotal: 54.1s\tremaining: 1m 10s\n",
      "130:\tlearn: 0.9164570\ttotal: 54.5s\tremaining: 1m 10s\n",
      "131:\tlearn: 0.9131750\ttotal: 54.9s\tremaining: 1m 9s\n",
      "132:\tlearn: 0.9110376\ttotal: 55.3s\tremaining: 1m 9s\n",
      "133:\tlearn: 0.9090704\ttotal: 55.6s\tremaining: 1m 8s\n",
      "134:\tlearn: 0.9065339\ttotal: 56s\tremaining: 1m 8s\n",
      "135:\tlearn: 0.9038318\ttotal: 56.4s\tremaining: 1m 8s\n",
      "136:\tlearn: 0.9010313\ttotal: 56.9s\tremaining: 1m 7s\n",
      "137:\tlearn: 0.8986437\ttotal: 57.3s\tremaining: 1m 7s\n",
      "138:\tlearn: 0.8960285\ttotal: 57.8s\tremaining: 1m 6s\n",
      "139:\tlearn: 0.8929106\ttotal: 58.3s\tremaining: 1m 6s\n",
      "140:\tlearn: 0.8905801\ttotal: 58.6s\tremaining: 1m 6s\n",
      "141:\tlearn: 0.8873932\ttotal: 59.1s\tremaining: 1m 5s\n",
      "142:\tlearn: 0.8850695\ttotal: 59.4s\tremaining: 1m 5s\n",
      "143:\tlearn: 0.8825843\ttotal: 59.9s\tremaining: 1m 4s\n",
      "144:\tlearn: 0.8798924\ttotal: 1m\tremaining: 1m 4s\n",
      "145:\tlearn: 0.8770339\ttotal: 1m\tremaining: 1m 4s\n",
      "146:\tlearn: 0.8748086\ttotal: 1m 1s\tremaining: 1m 3s\n",
      "147:\tlearn: 0.8726638\ttotal: 1m 1s\tremaining: 1m 3s\n",
      "148:\tlearn: 0.8703552\ttotal: 1m 1s\tremaining: 1m 2s\n",
      "149:\tlearn: 0.8681836\ttotal: 1m 2s\tremaining: 1m 2s\n",
      "150:\tlearn: 0.8652327\ttotal: 1m 2s\tremaining: 1m 1s\n",
      "151:\tlearn: 0.8635293\ttotal: 1m 2s\tremaining: 1m 1s\n",
      "152:\tlearn: 0.8612988\ttotal: 1m 3s\tremaining: 1m\n",
      "153:\tlearn: 0.8592918\ttotal: 1m 3s\tremaining: 1m\n",
      "154:\tlearn: 0.8575769\ttotal: 1m 4s\tremaining: 59.9s\n",
      "155:\tlearn: 0.8555873\ttotal: 1m 4s\tremaining: 59.4s\n",
      "156:\tlearn: 0.8539913\ttotal: 1m 4s\tremaining: 59s\n",
      "157:\tlearn: 0.8522536\ttotal: 1m 5s\tremaining: 58.5s\n",
      "158:\tlearn: 0.8499288\ttotal: 1m 5s\tremaining: 58s\n",
      "159:\tlearn: 0.8479005\ttotal: 1m 5s\tremaining: 57.6s\n",
      "160:\tlearn: 0.8454768\ttotal: 1m 6s\tremaining: 57.2s\n",
      "161:\tlearn: 0.8435292\ttotal: 1m 6s\tremaining: 56.7s\n",
      "162:\tlearn: 0.8421004\ttotal: 1m 6s\tremaining: 56.3s\n",
      "163:\tlearn: 0.8403763\ttotal: 1m 7s\tremaining: 55.8s\n",
      "164:\tlearn: 0.8381414\ttotal: 1m 7s\tremaining: 55.4s\n",
      "165:\tlearn: 0.8364022\ttotal: 1m 8s\tremaining: 55s\n",
      "166:\tlearn: 0.8338663\ttotal: 1m 8s\tremaining: 54.6s\n",
      "167:\tlearn: 0.8321235\ttotal: 1m 8s\tremaining: 54.2s\n",
      "168:\tlearn: 0.8299603\ttotal: 1m 9s\tremaining: 53.7s\n",
      "169:\tlearn: 0.8286210\ttotal: 1m 9s\tremaining: 53.3s\n",
      "170:\tlearn: 0.8261942\ttotal: 1m 10s\tremaining: 52.8s\n",
      "171:\tlearn: 0.8243607\ttotal: 1m 10s\tremaining: 52.4s\n",
      "172:\tlearn: 0.8225754\ttotal: 1m 10s\tremaining: 52s\n",
      "173:\tlearn: 0.8200937\ttotal: 1m 11s\tremaining: 51.6s\n",
      "174:\tlearn: 0.8180275\ttotal: 1m 11s\tremaining: 51.2s\n",
      "175:\tlearn: 0.8157278\ttotal: 1m 12s\tremaining: 50.8s\n",
      "176:\tlearn: 0.8140317\ttotal: 1m 12s\tremaining: 50.4s\n",
      "177:\tlearn: 0.8119461\ttotal: 1m 12s\tremaining: 50s\n",
      "178:\tlearn: 0.8098155\ttotal: 1m 13s\tremaining: 49.6s\n",
      "179:\tlearn: 0.8081595\ttotal: 1m 13s\tremaining: 49.1s\n",
      "180:\tlearn: 0.8059519\ttotal: 1m 14s\tremaining: 48.7s\n",
      "181:\tlearn: 0.8039264\ttotal: 1m 14s\tremaining: 48.3s\n",
      "182:\tlearn: 0.8018895\ttotal: 1m 14s\tremaining: 47.9s\n",
      "183:\tlearn: 0.7999065\ttotal: 1m 15s\tremaining: 47.6s\n",
      "184:\tlearn: 0.7977914\ttotal: 1m 15s\tremaining: 47.1s\n",
      "185:\tlearn: 0.7958062\ttotal: 1m 16s\tremaining: 46.7s\n",
      "186:\tlearn: 0.7937945\ttotal: 1m 16s\tremaining: 46.3s\n",
      "187:\tlearn: 0.7922416\ttotal: 1m 17s\tremaining: 45.9s\n",
      "188:\tlearn: 0.7904924\ttotal: 1m 17s\tremaining: 45.5s\n",
      "189:\tlearn: 0.7892420\ttotal: 1m 17s\tremaining: 45s\n",
      "190:\tlearn: 0.7879855\ttotal: 1m 18s\tremaining: 44.6s\n",
      "191:\tlearn: 0.7856770\ttotal: 1m 18s\tremaining: 44.2s\n",
      "192:\tlearn: 0.7841975\ttotal: 1m 18s\tremaining: 43.7s\n",
      "193:\tlearn: 0.7828456\ttotal: 1m 19s\tremaining: 43.3s\n",
      "194:\tlearn: 0.7810090\ttotal: 1m 19s\tremaining: 42.9s\n",
      "195:\tlearn: 0.7791707\ttotal: 1m 20s\tremaining: 42.5s\n",
      "196:\tlearn: 0.7776574\ttotal: 1m 20s\tremaining: 42.1s\n",
      "197:\tlearn: 0.7758949\ttotal: 1m 20s\tremaining: 41.7s\n",
      "198:\tlearn: 0.7742436\ttotal: 1m 21s\tremaining: 41.3s\n",
      "199:\tlearn: 0.7729691\ttotal: 1m 21s\tremaining: 40.8s\n",
      "200:\tlearn: 0.7714281\ttotal: 1m 22s\tremaining: 40.4s\n",
      "201:\tlearn: 0.7700724\ttotal: 1m 22s\tremaining: 40s\n",
      "202:\tlearn: 0.7687539\ttotal: 1m 22s\tremaining: 39.5s\n",
      "203:\tlearn: 0.7669777\ttotal: 1m 23s\tremaining: 39.1s\n",
      "204:\tlearn: 0.7656346\ttotal: 1m 23s\tremaining: 38.7s\n",
      "205:\tlearn: 0.7644368\ttotal: 1m 23s\tremaining: 38.3s\n",
      "206:\tlearn: 0.7630155\ttotal: 1m 24s\tremaining: 37.8s\n",
      "207:\tlearn: 0.7616287\ttotal: 1m 24s\tremaining: 37.4s\n",
      "208:\tlearn: 0.7603152\ttotal: 1m 24s\tremaining: 37s\n",
      "209:\tlearn: 0.7588442\ttotal: 1m 25s\tremaining: 36.6s\n",
      "210:\tlearn: 0.7570622\ttotal: 1m 25s\tremaining: 36.2s\n",
      "211:\tlearn: 0.7553871\ttotal: 1m 26s\tremaining: 35.8s\n",
      "212:\tlearn: 0.7536618\ttotal: 1m 26s\tremaining: 35.4s\n",
      "213:\tlearn: 0.7518504\ttotal: 1m 27s\tremaining: 35s\n",
      "214:\tlearn: 0.7503789\ttotal: 1m 27s\tremaining: 34.6s\n",
      "215:\tlearn: 0.7490577\ttotal: 1m 27s\tremaining: 34.1s\n",
      "216:\tlearn: 0.7478499\ttotal: 1m 28s\tremaining: 33.7s\n",
      "217:\tlearn: 0.7462754\ttotal: 1m 28s\tremaining: 33.3s\n",
      "218:\tlearn: 0.7449185\ttotal: 1m 28s\tremaining: 32.9s\n",
      "219:\tlearn: 0.7436877\ttotal: 1m 29s\tremaining: 32.5s\n",
      "220:\tlearn: 0.7421922\ttotal: 1m 29s\tremaining: 32.1s\n",
      "221:\tlearn: 0.7408141\ttotal: 1m 30s\tremaining: 31.7s\n",
      "222:\tlearn: 0.7394631\ttotal: 1m 30s\tremaining: 31.3s\n",
      "223:\tlearn: 0.7382443\ttotal: 1m 30s\tremaining: 30.9s\n",
      "224:\tlearn: 0.7374501\ttotal: 1m 31s\tremaining: 30.4s\n",
      "225:\tlearn: 0.7361016\ttotal: 1m 31s\tremaining: 30s\n",
      "226:\tlearn: 0.7349408\ttotal: 1m 32s\tremaining: 29.6s\n",
      "227:\tlearn: 0.7336933\ttotal: 1m 32s\tremaining: 29.2s\n",
      "228:\tlearn: 0.7323194\ttotal: 1m 32s\tremaining: 28.8s\n",
      "229:\tlearn: 0.7305785\ttotal: 1m 33s\tremaining: 28.4s\n",
      "230:\tlearn: 0.7290849\ttotal: 1m 33s\tremaining: 28s\n",
      "231:\tlearn: 0.7273141\ttotal: 1m 34s\tremaining: 27.6s\n",
      "232:\tlearn: 0.7262130\ttotal: 1m 34s\tremaining: 27.2s\n",
      "233:\tlearn: 0.7245574\ttotal: 1m 34s\tremaining: 26.8s\n",
      "234:\tlearn: 0.7233135\ttotal: 1m 35s\tremaining: 26.4s\n",
      "235:\tlearn: 0.7219482\ttotal: 1m 35s\tremaining: 26s\n",
      "236:\tlearn: 0.7202644\ttotal: 1m 36s\tremaining: 25.6s\n",
      "237:\tlearn: 0.7188017\ttotal: 1m 36s\tremaining: 25.2s\n",
      "238:\tlearn: 0.7175334\ttotal: 1m 37s\tremaining: 24.8s\n",
      "239:\tlearn: 0.7167100\ttotal: 1m 37s\tremaining: 24.3s\n",
      "240:\tlearn: 0.7148413\ttotal: 1m 37s\tremaining: 23.9s\n",
      "241:\tlearn: 0.7135697\ttotal: 1m 38s\tremaining: 23.5s\n",
      "242:\tlearn: 0.7123072\ttotal: 1m 38s\tremaining: 23.1s\n",
      "243:\tlearn: 0.7111363\ttotal: 1m 38s\tremaining: 22.7s\n",
      "244:\tlearn: 0.7096046\ttotal: 1m 39s\tremaining: 22.3s\n",
      "245:\tlearn: 0.7078366\ttotal: 1m 39s\tremaining: 21.9s\n",
      "246:\tlearn: 0.7065537\ttotal: 1m 40s\tremaining: 21.5s\n",
      "247:\tlearn: 0.7055875\ttotal: 1m 40s\tremaining: 21.1s\n",
      "248:\tlearn: 0.7045912\ttotal: 1m 40s\tremaining: 20.7s\n",
      "249:\tlearn: 0.7037207\ttotal: 1m 41s\tremaining: 20.2s\n",
      "250:\tlearn: 0.7027207\ttotal: 1m 41s\tremaining: 19.8s\n",
      "251:\tlearn: 0.7017839\ttotal: 1m 41s\tremaining: 19.4s\n",
      "252:\tlearn: 0.7006925\ttotal: 1m 42s\tremaining: 19s\n",
      "253:\tlearn: 0.6996938\ttotal: 1m 42s\tremaining: 18.6s\n",
      "254:\tlearn: 0.6986456\ttotal: 1m 43s\tremaining: 18.2s\n",
      "255:\tlearn: 0.6977646\ttotal: 1m 43s\tremaining: 17.8s\n",
      "256:\tlearn: 0.6967168\ttotal: 1m 43s\tremaining: 17.4s\n",
      "257:\tlearn: 0.6955393\ttotal: 1m 44s\tremaining: 17s\n",
      "258:\tlearn: 0.6941308\ttotal: 1m 44s\tremaining: 16.6s\n",
      "259:\tlearn: 0.6932931\ttotal: 1m 44s\tremaining: 16.2s\n",
      "260:\tlearn: 0.6924487\ttotal: 1m 45s\tremaining: 15.7s\n",
      "261:\tlearn: 0.6916365\ttotal: 1m 45s\tremaining: 15.3s\n",
      "262:\tlearn: 0.6903088\ttotal: 1m 46s\tremaining: 14.9s\n",
      "263:\tlearn: 0.6889835\ttotal: 1m 46s\tremaining: 14.5s\n",
      "264:\tlearn: 0.6878477\ttotal: 1m 46s\tremaining: 14.1s\n",
      "265:\tlearn: 0.6867766\ttotal: 1m 47s\tremaining: 13.7s\n",
      "266:\tlearn: 0.6855247\ttotal: 1m 47s\tremaining: 13.3s\n",
      "267:\tlearn: 0.6849470\ttotal: 1m 47s\tremaining: 12.9s\n",
      "268:\tlearn: 0.6838044\ttotal: 1m 48s\tremaining: 12.5s\n",
      "269:\tlearn: 0.6825895\ttotal: 1m 48s\tremaining: 12.1s\n",
      "270:\tlearn: 0.6814215\ttotal: 1m 49s\tremaining: 11.7s\n",
      "271:\tlearn: 0.6805663\ttotal: 1m 49s\tremaining: 11.3s\n",
      "272:\tlearn: 0.6791597\ttotal: 1m 49s\tremaining: 10.9s\n",
      "273:\tlearn: 0.6780501\ttotal: 1m 50s\tremaining: 10.5s\n",
      "274:\tlearn: 0.6769978\ttotal: 1m 50s\tremaining: 10.1s\n",
      "275:\tlearn: 0.6758631\ttotal: 1m 51s\tremaining: 9.66s\n",
      "276:\tlearn: 0.6749804\ttotal: 1m 51s\tremaining: 9.25s\n",
      "277:\tlearn: 0.6742171\ttotal: 1m 51s\tremaining: 8.84s\n",
      "278:\tlearn: 0.6734501\ttotal: 1m 52s\tremaining: 8.44s\n",
      "279:\tlearn: 0.6727550\ttotal: 1m 52s\tremaining: 8.03s\n",
      "280:\tlearn: 0.6720171\ttotal: 1m 52s\tremaining: 7.62s\n",
      "281:\tlearn: 0.6711648\ttotal: 1m 53s\tremaining: 7.22s\n",
      "282:\tlearn: 0.6705381\ttotal: 1m 53s\tremaining: 6.81s\n",
      "283:\tlearn: 0.6696055\ttotal: 1m 53s\tremaining: 6.41s\n",
      "284:\tlearn: 0.6686457\ttotal: 1m 54s\tremaining: 6.01s\n",
      "285:\tlearn: 0.6678365\ttotal: 1m 54s\tremaining: 5.61s\n",
      "286:\tlearn: 0.6666754\ttotal: 1m 54s\tremaining: 5.2s\n",
      "287:\tlearn: 0.6659285\ttotal: 1m 55s\tremaining: 4.8s\n",
      "288:\tlearn: 0.6643408\ttotal: 1m 55s\tremaining: 4.4s\n",
      "289:\tlearn: 0.6632674\ttotal: 1m 56s\tremaining: 4s\n",
      "290:\tlearn: 0.6629423\ttotal: 1m 56s\tremaining: 3.6s\n",
      "291:\tlearn: 0.6615462\ttotal: 1m 56s\tremaining: 3.2s\n",
      "292:\tlearn: 0.6607331\ttotal: 1m 57s\tremaining: 2.8s\n",
      "293:\tlearn: 0.6592557\ttotal: 1m 57s\tremaining: 2.4s\n",
      "294:\tlearn: 0.6584747\ttotal: 1m 57s\tremaining: 2s\n",
      "295:\tlearn: 0.6575660\ttotal: 1m 58s\tremaining: 1.6s\n",
      "296:\tlearn: 0.6566793\ttotal: 1m 58s\tremaining: 1.2s\n",
      "297:\tlearn: 0.6556867\ttotal: 1m 59s\tremaining: 799ms\n",
      "298:\tlearn: 0.6549769\ttotal: 1m 59s\tremaining: 399ms\n",
      "299:\tlearn: 0.6540426\ttotal: 1m 59s\tremaining: 0us\n"
     ]
    }
   ],
   "source": [
    "catboos = CatBoostClassifier(\n",
    "    iterations=300,\n",
    "    learning_rate=0.05,\n",
    "    depth=6,\n",
    "    task_type='GPU',\n",
    "    random_seed=42\n",
    ")\n",
    "catboos.fit(x_train, y_train)\n",
    "y_pred = catboos.predict(x_test)"
   ]
  },
  {
   "cell_type": "code",
   "execution_count": 31,
   "metadata": {},
   "outputs": [
    {
     "name": "stdout",
     "output_type": "stream",
     "text": [
      "              precision    recall  f1-score   support\n",
      "\n",
      "           0       0.83      0.90      0.86       248\n",
      "           1       0.51      0.50      0.50       252\n",
      "           2       0.77      0.71      0.74       258\n",
      "           3       0.84      0.90      0.87       265\n",
      "           4       0.86      0.90      0.88       242\n",
      "           5       0.73      0.69      0.71       249\n",
      "           6       0.70      0.69      0.70       242\n",
      "           7       0.78      0.76      0.77       233\n",
      "           8       0.84      0.84      0.84       249\n",
      "           9       0.93      0.85      0.89       262\n",
      "          10       0.91      0.94      0.93       250\n",
      "\n",
      "    accuracy                           0.79      2750\n",
      "   macro avg       0.79      0.79      0.79      2750\n",
      "weighted avg       0.79      0.79      0.79      2750\n",
      "\n"
     ]
    }
   ],
   "source": [
    "# classification_report\n",
    "print(metrics.classification_report(y_test,y_pred))"
   ]
  },
  {
   "cell_type": "code",
   "execution_count": 32,
   "metadata": {},
   "outputs": [
    {
     "name": "stdout",
     "output_type": "stream",
     "text": [
      "[[222   4   1   2   0   1  16   1   1   0   0]\n",
      " [ 18 126  23  11   3  13  23  16  10   3   6]\n",
      " [  3  26 184   5   1  14   7   6   8   4   0]\n",
      " [  4  10   1 238   0   0  10   1   0   0   1]\n",
      " [  0   4   1   1 217   9   4   4   1   0   1]\n",
      " [  3  17   7   5  15 172   3   8  14   2   3]\n",
      " [ 15  21   7  15   1   3 168   5   1   1   5]\n",
      " [  3  16   5   2   8   4   6 178   3   5   3]\n",
      " [  0  10   2   4   4  15   1   1 210   2   0]\n",
      " [  0   9   7   1   4   5   1   7   2 223   3]\n",
      " [  1   6   2   1   0   1   0   1   1   1 236]]\n"
     ]
    }
   ],
   "source": [
    "#confusion_matrix\n",
    "print(metrics.confusion_matrix(y_test,y_pred))"
   ]
  },
  {
   "cell_type": "code",
   "execution_count": 33,
   "metadata": {},
   "outputs": [
    {
     "data": {
      "image/png": "[encoded data removed]",
      "text/plain": [
       "<Figure size 800x500 with 2 Axes>"
      ]
     },
     "metadata": {},
     "output_type": "display_data"
    }
   ],
   "source": [
    "cm = metrics.confusion_matrix(y_test , y_pred)\n",
    "plt.figure(figsize=(8,5))\n",
    "sns.heatmap(cm,annot=True, fmt='d' , cmap='Blues')\n",
    "plt.xlabel('Predicted' , fontsize=12)\n",
    "plt.ylabel('Actual', fontsize=12)\n",
    "plt.xticks(fontsize=10)\n",
    "plt.yticks(fontsize=10)\n",
    "plt.title('Confusion Matrix', fontsize=15)\n",
    "plt.show()"
   ]
  },
  {
   "cell_type": "markdown",
   "metadata": {},
   "source": [
    "<font size=\"3\">3)RandomForestClassifier algorithm to classify news</font>"
   ]
  },
  {
   "cell_type": "code",
   "execution_count": 34,
   "metadata": {},
   "outputs": [
    {
     "name": "stdout",
     "output_type": "stream",
     "text": [
      "              precision    recall  f1-score   support\n",
      "\n",
      "           0       0.71      0.96      0.81       248\n",
      "           1       0.55      0.15      0.24       252\n",
      "           2       0.67      0.76      0.72       258\n",
      "           3       0.78      0.98      0.87       265\n",
      "           4       0.72      0.93      0.81       242\n",
      "           5       0.74      0.58      0.65       249\n",
      "           6       0.75      0.55      0.63       242\n",
      "           7       0.74      0.73      0.74       233\n",
      "           8       0.77      0.84      0.81       249\n",
      "           9       0.91      0.90      0.91       262\n",
      "          10       0.90      0.98      0.94       250\n",
      "\n",
      "    accuracy                           0.76      2750\n",
      "   macro avg       0.75      0.76      0.74      2750\n",
      "weighted avg       0.75      0.76      0.74      2750\n",
      "\n"
     ]
    }
   ],
   "source": [
    "rfc = RandomForestClassifier(n_estimators=300 , max_depth=10 , n_jobs=-1)\n",
    "rfc.fit(x_train , y_train)\n",
    "y_pred = rfc.predict(x_test)\n",
    "print(metrics.classification_report(y_test,y_pred))"
   ]
  },
  {
   "cell_type": "code",
   "execution_count": 35,
   "metadata": {},
   "outputs": [
    {
     "name": "stdout",
     "output_type": "stream",
     "text": [
      "[[237   0   1   3   1   0   6   0   0   0   0]\n",
      " [ 32  38  56  15  11  19  23  24  22   2  10]\n",
      " [  8   6 197   8   3  12   3   4   8   7   2]\n",
      " [  0   1   0 260   0   0   3   0   0   0   1]\n",
      " [  2   2   0   1 225   4   1   6   1   0   0]\n",
      " [  7  13  13   7  29 144   3  11  19   1   2]\n",
      " [ 33   3  14  29   6   4 133   8   3   2   7]\n",
      " [  7   5   7   1  14   5   5 171   7   5   6]\n",
      " [  4   1   3   7  12   5   0   1 210   6   0]\n",
      " [  3   0   2   1  12   1   0   5   1 237   0]\n",
      " [  1   0   0   1   1   0   0   1   0   1 245]]\n"
     ]
    }
   ],
   "source": [
    "# confusion_matrix\n",
    "print(metrics.confusion_matrix(y_test,y_pred))"
   ]
  },
  {
   "cell_type": "code",
   "execution_count": 36,
   "metadata": {},
   "outputs": [
    {
     "data": {
      "image/png": "[encoded data removed]",
      "text/plain": [
       "<Figure size 800x500 with 2 Axes>"
      ]
     },
     "metadata": {},
     "output_type": "display_data"
    }
   ],
   "source": [
    "cm = metrics.confusion_matrix(y_test , y_pred)\n",
    "plt.figure(figsize=(8,5))\n",
    "sns.heatmap(cm,annot=True, fmt='d' , cmap='Blues')\n",
    "plt.xlabel('Predicted' , fontsize=12)\n",
    "plt.ylabel('Actual', fontsize=12)\n",
    "plt.xticks(fontsize=10)\n",
    "plt.yticks(fontsize=10)\n",
    "plt.title('Confusion Matrix', fontsize=15)\n",
    "plt.show()"
   ]
  },
  {
   "cell_type": "markdown",
   "metadata": {},
   "source": [
    "<font size=\"3\">4) kneighbors algorithm to classify news</font>"
   ]
  },
  {
   "cell_type": "code",
   "execution_count": 37,
   "metadata": {},
   "outputs": [
    {
     "name": "stdout",
     "output_type": "stream",
     "text": [
      "              precision    recall  f1-score   support\n",
      "\n",
      "           0       0.70      0.92      0.80       248\n",
      "           1       0.52      0.46      0.49       252\n",
      "           2       0.66      0.74      0.70       258\n",
      "           3       0.79      0.83      0.81       265\n",
      "           4       0.58      0.96      0.73       242\n",
      "           5       0.78      0.51      0.62       249\n",
      "           6       0.77      0.52      0.62       242\n",
      "           7       0.86      0.71      0.78       233\n",
      "           8       0.84      0.77      0.81       249\n",
      "           9       0.93      0.87      0.90       262\n",
      "          10       0.95      0.92      0.93       250\n",
      "\n",
      "    accuracy                           0.75      2750\n",
      "   macro avg       0.76      0.75      0.74      2750\n",
      "weighted avg       0.76      0.75      0.74      2750\n",
      "\n"
     ]
    }
   ],
   "source": [
    "knn = KNeighborsClassifier(n_neighbors=3)\n",
    "knn.fit(x_train , y_train)\n",
    "y_pred = knn.predict(x_test)\n",
    "print(metrics.classification_report(y_test,y_pred))"
   ]
  },
  {
   "cell_type": "code",
   "execution_count": 38,
   "metadata": {},
   "outputs": [
    {
     "name": "stdout",
     "output_type": "stream",
     "text": [
      "[[227   3   1   1   2   0  12   0   1   1   0]\n",
      " [ 24 116  27   9  24   7  11   8  13   7   6]\n",
      " [  7  29 190  10   6   5   3   0   3   4   1]\n",
      " [  6  11  14 221   5   1   2   1   2   0   2]\n",
      " [  1   1   0   2 233   2   0   2   1   0   0]\n",
      " [ 10  12  15   3  57 127   3   6  12   3   1]\n",
      " [ 29  16  20  28  13   2 127   6   0   0   1]\n",
      " [  9  12   4   2  26   4   4 165   4   2   1]\n",
      " [  5  13   6   3  18   7   2   1 192   1   1]\n",
      " [  1   7   9   0  12   4   0   2   0 227   0]\n",
      " [  3   3   2   2   4   4   2   0   0   0 230]]\n"
     ]
    }
   ],
   "source": [
    "# confusion_matrix\n",
    "print(metrics.confusion_matrix(y_test,y_pred))"
   ]
  },
  {
   "cell_type": "code",
   "execution_count": 39,
   "metadata": {},
   "outputs": [
    {
     "data": {
      "image/png": "[encoded data removed]",
      "text/plain": [
       "<Figure size 800x500 with 2 Axes>"
      ]
     },
     "metadata": {},
     "output_type": "display_data"
    }
   ],
   "source": [
    "cm = metrics.confusion_matrix(y_test , y_pred)\n",
    "plt.figure(figsize=(8,5))\n",
    "sns.heatmap(cm,annot=True, fmt='d' , cmap='Blues')\n",
    "plt.xlabel('Predicted' , fontsize=12)\n",
    "plt.ylabel('Actual', fontsize=12)\n",
    "plt.xticks(fontsize=10)\n",
    "plt.yticks(fontsize=10)\n",
    "plt.title('Confusion Matrix', fontsize=15)\n",
    "plt.show()"
   ]
  },
  {
   "cell_type": "code",
   "execution_count": 45,
   "metadata": {},
   "outputs": [],
   "source": [
    "with open('stemmer.pkl' , 'wb') as f:\n",
    "    pickle.dump(stemmer, f)\n",
    "with open('vectorizer.pkl' , 'wb') as f:\n",
    "    pickle.dump(vectorizer, f)\n",
    "with open('lable_encoder.pkl' , 'wb') as f:\n",
    "    pickle.dump(le, f)\n",
    "with open('FarsiTextClassifier.pkl' , 'wb') as f:\n",
    "    pickle.dump(svc_text, f)"
   ]
  }
 ],
 "metadata": {
  "kernelspec": {
   "display_name": "Python 3",
   "language": "python",
   "name": "python3"
  },
  "language_info": {
   "codemirror_mode": {
    "name": "ipython",
    "version": 3
   },
   "file_extension": ".py",
   "mimetype": "text/x-python",
   "name": "python",
   "nbconvert_exporter": "python",
   "pygments_lexer": "ipython3",
   "version": "3.8.10"
  }
 },
 "nbformat": 4,
 "nbformat_minor": 2
}
